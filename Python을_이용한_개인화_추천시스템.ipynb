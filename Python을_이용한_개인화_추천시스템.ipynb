{
  "nbformat": 4,
  "nbformat_minor": 0,
  "metadata": {
    "colab": {
      "name": "Python을 이용한 개인화 추천시스템.ipynb",
      "provenance": [],
      "collapsed_sections": [
        "-dYTBPWHCFV8",
        "wJIyF1eUHsGX",
        "pJFCWmfOomm2",
        "G9YYInM6ZNRG",
        "5gcwdMsCev1I",
        "Y2rLnKPveXm5",
        "oMb6kv1NhPlB",
        "pnXoAItQmQS_",
        "CWhLhYimpsig",
        "xTgHWIAIuWhA",
        "9jd2ZT-Qzyf2",
        "cXKUhJ860CAc",
        "3U_1HX9T6qOy",
        "1s2iSiTENUrF",
        "M7HIuUIWFLV9"
      ]
    },
    "kernelspec": {
      "name": "python3",
      "display_name": "Python 3"
    },
    "language_info": {
      "name": "python"
    }
  },
  "cells": [
    {
      "cell_type": "markdown",
      "metadata": {
        "id": "-dYTBPWHCFV8"
      },
      "source": [
        "### 제 2장 기본적인 추천 시스템"
      ]
    },
    {
      "cell_type": "code",
      "metadata": {
        "colab": {
          "base_uri": "https://localhost:8080/"
        },
        "id": "9gEE9Z8X8MLY",
        "outputId": "9887ed23-0fe6-430e-d400-3f88a381d7a0"
      },
      "source": [
        "from google.colab import drive\n",
        "drive.mount('/content/drive')"
      ],
      "execution_count": null,
      "outputs": [
        {
          "output_type": "stream",
          "text": [
            "Mounted at /content/drive\n"
          ],
          "name": "stdout"
        }
      ]
    },
    {
      "cell_type": "code",
      "metadata": {
        "colab": {
          "base_uri": "https://localhost:8080/",
          "height": 225
        },
        "id": "x2OhFCEyDxRa",
        "outputId": "46616cbd-7e7f-4f08-8300-c7e36d0376df"
      },
      "source": [
        "import pandas as pd\n",
        "u_cols = ['user_id', 'age', 'sex', 'occupation', 'zip_code']\n",
        "users = pd.read_csv('/u.user', sep='|', names=u_cols, encoding='latin-1')\n",
        "users = users.set_index('user_id')\n",
        "users.head()"
      ],
      "execution_count": null,
      "outputs": [
        {
          "output_type": "execute_result",
          "data": {
            "text/html": [
              "<div>\n",
              "<style scoped>\n",
              "    .dataframe tbody tr th:only-of-type {\n",
              "        vertical-align: middle;\n",
              "    }\n",
              "\n",
              "    .dataframe tbody tr th {\n",
              "        vertical-align: top;\n",
              "    }\n",
              "\n",
              "    .dataframe thead th {\n",
              "        text-align: right;\n",
              "    }\n",
              "</style>\n",
              "<table border=\"1\" class=\"dataframe\">\n",
              "  <thead>\n",
              "    <tr style=\"text-align: right;\">\n",
              "      <th></th>\n",
              "      <th>age</th>\n",
              "      <th>sex</th>\n",
              "      <th>occupation</th>\n",
              "      <th>zip_code</th>\n",
              "    </tr>\n",
              "    <tr>\n",
              "      <th>user_id</th>\n",
              "      <th></th>\n",
              "      <th></th>\n",
              "      <th></th>\n",
              "      <th></th>\n",
              "    </tr>\n",
              "  </thead>\n",
              "  <tbody>\n",
              "    <tr>\n",
              "      <th>1</th>\n",
              "      <td>24</td>\n",
              "      <td>M</td>\n",
              "      <td>technician</td>\n",
              "      <td>85711</td>\n",
              "    </tr>\n",
              "    <tr>\n",
              "      <th>2</th>\n",
              "      <td>53</td>\n",
              "      <td>F</td>\n",
              "      <td>other</td>\n",
              "      <td>94043</td>\n",
              "    </tr>\n",
              "    <tr>\n",
              "      <th>3</th>\n",
              "      <td>23</td>\n",
              "      <td>M</td>\n",
              "      <td>writer</td>\n",
              "      <td>32067</td>\n",
              "    </tr>\n",
              "    <tr>\n",
              "      <th>4</th>\n",
              "      <td>24</td>\n",
              "      <td>M</td>\n",
              "      <td>technician</td>\n",
              "      <td>43537</td>\n",
              "    </tr>\n",
              "    <tr>\n",
              "      <th>5</th>\n",
              "      <td>33</td>\n",
              "      <td>F</td>\n",
              "      <td>other</td>\n",
              "      <td>15213</td>\n",
              "    </tr>\n",
              "  </tbody>\n",
              "</table>\n",
              "</div>"
            ],
            "text/plain": [
              "         age sex  occupation zip_code\n",
              "user_id                              \n",
              "1         24   M  technician    85711\n",
              "2         53   F       other    94043\n",
              "3         23   M      writer    32067\n",
              "4         24   M  technician    43537\n",
              "5         33   F       other    15213"
            ]
          },
          "metadata": {
            "tags": []
          },
          "execution_count": 3
        }
      ]
    },
    {
      "cell_type": "code",
      "metadata": {
        "colab": {
          "base_uri": "https://localhost:8080/",
          "height": 396
        },
        "id": "uD-mJwIRAB7F",
        "outputId": "4173445d-0c1e-470a-dfdc-9e870a3edbe5"
      },
      "source": [
        "# u.item 파일을 DataFrame으로 읽기\n",
        "# 장르:unknown~Western (장르 동시에 체크 된 경우 존재.)\n",
        "import pandas as pd\n",
        "i_cols = ['movie_id', 'title', 'release date', 'video release date', 'IMDB URL', \n",
        "          'unknown', 'Action', 'Adventure', 'Animation', 'Children\\'s', 'Comedy', \n",
        "          'Crime', 'Documentary', 'Drama', 'Fantasy', 'Film-Noir', 'Horror', \n",
        "          'Musical', 'Mystery', 'Romance', 'Sci-Fi', 'Thriller', 'War', 'Western']\n",
        "movies = pd.read_csv('/u.item', sep='|', names=i_cols, encoding='latin-1')\n",
        "movies = movies.set_index('movie_id')\n",
        "movies.head()"
      ],
      "execution_count": null,
      "outputs": [
        {
          "output_type": "execute_result",
          "data": {
            "text/html": [
              "<div>\n",
              "<style scoped>\n",
              "    .dataframe tbody tr th:only-of-type {\n",
              "        vertical-align: middle;\n",
              "    }\n",
              "\n",
              "    .dataframe tbody tr th {\n",
              "        vertical-align: top;\n",
              "    }\n",
              "\n",
              "    .dataframe thead th {\n",
              "        text-align: right;\n",
              "    }\n",
              "</style>\n",
              "<table border=\"1\" class=\"dataframe\">\n",
              "  <thead>\n",
              "    <tr style=\"text-align: right;\">\n",
              "      <th></th>\n",
              "      <th>title</th>\n",
              "      <th>release date</th>\n",
              "      <th>video release date</th>\n",
              "      <th>IMDB URL</th>\n",
              "      <th>unknown</th>\n",
              "      <th>Action</th>\n",
              "      <th>Adventure</th>\n",
              "      <th>Animation</th>\n",
              "      <th>Children's</th>\n",
              "      <th>Comedy</th>\n",
              "      <th>Crime</th>\n",
              "      <th>Documentary</th>\n",
              "      <th>Drama</th>\n",
              "      <th>Fantasy</th>\n",
              "      <th>Film-Noir</th>\n",
              "      <th>Horror</th>\n",
              "      <th>Musical</th>\n",
              "      <th>Mystery</th>\n",
              "      <th>Romance</th>\n",
              "      <th>Sci-Fi</th>\n",
              "      <th>Thriller</th>\n",
              "      <th>War</th>\n",
              "      <th>Western</th>\n",
              "    </tr>\n",
              "    <tr>\n",
              "      <th>movie_id</th>\n",
              "      <th></th>\n",
              "      <th></th>\n",
              "      <th></th>\n",
              "      <th></th>\n",
              "      <th></th>\n",
              "      <th></th>\n",
              "      <th></th>\n",
              "      <th></th>\n",
              "      <th></th>\n",
              "      <th></th>\n",
              "      <th></th>\n",
              "      <th></th>\n",
              "      <th></th>\n",
              "      <th></th>\n",
              "      <th></th>\n",
              "      <th></th>\n",
              "      <th></th>\n",
              "      <th></th>\n",
              "      <th></th>\n",
              "      <th></th>\n",
              "      <th></th>\n",
              "      <th></th>\n",
              "      <th></th>\n",
              "    </tr>\n",
              "  </thead>\n",
              "  <tbody>\n",
              "    <tr>\n",
              "      <th>1</th>\n",
              "      <td>Toy Story (1995)</td>\n",
              "      <td>01-Jan-1995</td>\n",
              "      <td>NaN</td>\n",
              "      <td>http://us.imdb.com/M/title-exact?Toy%20Story%2...</td>\n",
              "      <td>0</td>\n",
              "      <td>0</td>\n",
              "      <td>0</td>\n",
              "      <td>1</td>\n",
              "      <td>1</td>\n",
              "      <td>1</td>\n",
              "      <td>0</td>\n",
              "      <td>0</td>\n",
              "      <td>0</td>\n",
              "      <td>0</td>\n",
              "      <td>0</td>\n",
              "      <td>0</td>\n",
              "      <td>0</td>\n",
              "      <td>0</td>\n",
              "      <td>0</td>\n",
              "      <td>0</td>\n",
              "      <td>0</td>\n",
              "      <td>0</td>\n",
              "      <td>0</td>\n",
              "    </tr>\n",
              "    <tr>\n",
              "      <th>2</th>\n",
              "      <td>GoldenEye (1995)</td>\n",
              "      <td>01-Jan-1995</td>\n",
              "      <td>NaN</td>\n",
              "      <td>http://us.imdb.com/M/title-exact?GoldenEye%20(...</td>\n",
              "      <td>0</td>\n",
              "      <td>1</td>\n",
              "      <td>1</td>\n",
              "      <td>0</td>\n",
              "      <td>0</td>\n",
              "      <td>0</td>\n",
              "      <td>0</td>\n",
              "      <td>0</td>\n",
              "      <td>0</td>\n",
              "      <td>0</td>\n",
              "      <td>0</td>\n",
              "      <td>0</td>\n",
              "      <td>0</td>\n",
              "      <td>0</td>\n",
              "      <td>0</td>\n",
              "      <td>0</td>\n",
              "      <td>1</td>\n",
              "      <td>0</td>\n",
              "      <td>0</td>\n",
              "    </tr>\n",
              "    <tr>\n",
              "      <th>3</th>\n",
              "      <td>Four Rooms (1995)</td>\n",
              "      <td>01-Jan-1995</td>\n",
              "      <td>NaN</td>\n",
              "      <td>http://us.imdb.com/M/title-exact?Four%20Rooms%...</td>\n",
              "      <td>0</td>\n",
              "      <td>0</td>\n",
              "      <td>0</td>\n",
              "      <td>0</td>\n",
              "      <td>0</td>\n",
              "      <td>0</td>\n",
              "      <td>0</td>\n",
              "      <td>0</td>\n",
              "      <td>0</td>\n",
              "      <td>0</td>\n",
              "      <td>0</td>\n",
              "      <td>0</td>\n",
              "      <td>0</td>\n",
              "      <td>0</td>\n",
              "      <td>0</td>\n",
              "      <td>0</td>\n",
              "      <td>1</td>\n",
              "      <td>0</td>\n",
              "      <td>0</td>\n",
              "    </tr>\n",
              "    <tr>\n",
              "      <th>4</th>\n",
              "      <td>Get Shorty (1995)</td>\n",
              "      <td>01-Jan-1995</td>\n",
              "      <td>NaN</td>\n",
              "      <td>http://us.imdb.com/M/title-exact?Get%20Shorty%...</td>\n",
              "      <td>0</td>\n",
              "      <td>1</td>\n",
              "      <td>0</td>\n",
              "      <td>0</td>\n",
              "      <td>0</td>\n",
              "      <td>1</td>\n",
              "      <td>0</td>\n",
              "      <td>0</td>\n",
              "      <td>1</td>\n",
              "      <td>0</td>\n",
              "      <td>0</td>\n",
              "      <td>0</td>\n",
              "      <td>0</td>\n",
              "      <td>0</td>\n",
              "      <td>0</td>\n",
              "      <td>0</td>\n",
              "      <td>0</td>\n",
              "      <td>0</td>\n",
              "      <td>0</td>\n",
              "    </tr>\n",
              "    <tr>\n",
              "      <th>5</th>\n",
              "      <td>Copycat (1995)</td>\n",
              "      <td>01-Jan-1995</td>\n",
              "      <td>NaN</td>\n",
              "      <td>http://us.imdb.com/M/title-exact?Copycat%20(1995)</td>\n",
              "      <td>0</td>\n",
              "      <td>0</td>\n",
              "      <td>0</td>\n",
              "      <td>0</td>\n",
              "      <td>0</td>\n",
              "      <td>0</td>\n",
              "      <td>1</td>\n",
              "      <td>0</td>\n",
              "      <td>1</td>\n",
              "      <td>0</td>\n",
              "      <td>0</td>\n",
              "      <td>0</td>\n",
              "      <td>0</td>\n",
              "      <td>0</td>\n",
              "      <td>0</td>\n",
              "      <td>0</td>\n",
              "      <td>1</td>\n",
              "      <td>0</td>\n",
              "      <td>0</td>\n",
              "    </tr>\n",
              "  </tbody>\n",
              "</table>\n",
              "</div>"
            ],
            "text/plain": [
              "                      title release date  ...  War Western\n",
              "movie_id                                  ...             \n",
              "1          Toy Story (1995)  01-Jan-1995  ...    0       0\n",
              "2          GoldenEye (1995)  01-Jan-1995  ...    0       0\n",
              "3         Four Rooms (1995)  01-Jan-1995  ...    0       0\n",
              "4         Get Shorty (1995)  01-Jan-1995  ...    0       0\n",
              "5            Copycat (1995)  01-Jan-1995  ...    0       0\n",
              "\n",
              "[5 rows x 23 columns]"
            ]
          },
          "metadata": {
            "tags": []
          },
          "execution_count": 4
        }
      ]
    },
    {
      "cell_type": "code",
      "metadata": {
        "colab": {
          "base_uri": "https://localhost:8080/",
          "height": 225
        },
        "id": "9NBzHi2GAB9l",
        "outputId": "f2a63b44-dd75-4ed3-e241-e8ea907247ca"
      },
      "source": [
        "# u.data 파일을 DataFrame으로 읽기\n",
        "import pandas as pd\n",
        "r_cols = ['user_id', 'movie_id', 'rating', 'timestamp']\n",
        "ratings = pd.read_csv('/u.data', sep='\\t', names=r_cols, encoding='latin-1') \n",
        "ratings = ratings.set_index('user_id')\n",
        "ratings.head()"
      ],
      "execution_count": null,
      "outputs": [
        {
          "output_type": "execute_result",
          "data": {
            "text/html": [
              "<div>\n",
              "<style scoped>\n",
              "    .dataframe tbody tr th:only-of-type {\n",
              "        vertical-align: middle;\n",
              "    }\n",
              "\n",
              "    .dataframe tbody tr th {\n",
              "        vertical-align: top;\n",
              "    }\n",
              "\n",
              "    .dataframe thead th {\n",
              "        text-align: right;\n",
              "    }\n",
              "</style>\n",
              "<table border=\"1\" class=\"dataframe\">\n",
              "  <thead>\n",
              "    <tr style=\"text-align: right;\">\n",
              "      <th></th>\n",
              "      <th>movie_id</th>\n",
              "      <th>rating</th>\n",
              "      <th>timestamp</th>\n",
              "    </tr>\n",
              "    <tr>\n",
              "      <th>user_id</th>\n",
              "      <th></th>\n",
              "      <th></th>\n",
              "      <th></th>\n",
              "    </tr>\n",
              "  </thead>\n",
              "  <tbody>\n",
              "    <tr>\n",
              "      <th>196</th>\n",
              "      <td>242</td>\n",
              "      <td>3</td>\n",
              "      <td>881250949</td>\n",
              "    </tr>\n",
              "    <tr>\n",
              "      <th>186</th>\n",
              "      <td>302</td>\n",
              "      <td>3</td>\n",
              "      <td>891717742</td>\n",
              "    </tr>\n",
              "    <tr>\n",
              "      <th>22</th>\n",
              "      <td>377</td>\n",
              "      <td>1</td>\n",
              "      <td>878887116</td>\n",
              "    </tr>\n",
              "    <tr>\n",
              "      <th>244</th>\n",
              "      <td>51</td>\n",
              "      <td>2</td>\n",
              "      <td>880606923</td>\n",
              "    </tr>\n",
              "    <tr>\n",
              "      <th>166</th>\n",
              "      <td>346</td>\n",
              "      <td>1</td>\n",
              "      <td>886397596</td>\n",
              "    </tr>\n",
              "  </tbody>\n",
              "</table>\n",
              "</div>"
            ],
            "text/plain": [
              "         movie_id  rating  timestamp\n",
              "user_id                             \n",
              "196           242       3  881250949\n",
              "186           302       3  891717742\n",
              "22            377       1  878887116\n",
              "244            51       2  880606923\n",
              "166           346       1  886397596"
            ]
          },
          "metadata": {
            "tags": []
          },
          "execution_count": 6
        }
      ]
    },
    {
      "cell_type": "code",
      "metadata": {
        "id": "9hC0U0FaACCO"
      },
      "source": [
        "# Best-seller 추천 (가장 인기 있는 제품 추천)\n",
        "def recom_movie1(n_items):\n",
        "    movie_sort = movie_mean.sort_values(ascending=False)[:n_items]\n",
        "    recom_movies = movies.loc[movie_sort.index]\n",
        "    recommendations = recom_movies['title']\n",
        "    return recommendations\n",
        "\n",
        "# def recom_movie2(n_items): 위에 있는 함수와 동일.\n",
        "# return movies.loc[movie_mean.sort_values(ascending=False)[:n_items].index]['title']"
      ],
      "execution_count": null,
      "outputs": []
    },
    {
      "cell_type": "code",
      "metadata": {
        "colab": {
          "base_uri": "https://localhost:8080/"
        },
        "id": "aYz9EiDLACJE",
        "outputId": "b58f9dde-ef64-451e-bef1-69dfa0159807"
      },
      "source": [
        "# 평점의 평균값이 가장 높은 것을 순서대로 5개 추천.\n",
        "movie_mean = ratings.groupby(['movie_id'])['rating'].mean()\n",
        "recom_movie1(5)"
      ],
      "execution_count": null,
      "outputs": [
        {
          "output_type": "execute_result",
          "data": {
            "text/plain": [
              "movie_id\n",
              "1293                                      Star Kid (1997)\n",
              "1467                 Saint of Fort Washington, The (1993)\n",
              "1653    Entertaining Angels: The Dorothy Day Story (1996)\n",
              "814                         Great Day in Harlem, A (1994)\n",
              "1122                       They Made Me a Criminal (1939)\n",
              "Name: title, dtype: object"
            ]
          },
          "metadata": {
            "tags": []
          },
          "execution_count": 8
        }
      ]
    },
    {
      "cell_type": "code",
      "metadata": {
        "id": "FkVKSuFOACNN"
      },
      "source": [
        "# 정확도 계산 (정확도 지표 RMSE 선택.)\n",
        "import numpy as np\n",
        "def RMSE(y_true, y_pred):\n",
        "    return np.sqrt(np.mean((np.array(y_true) - np.array(y_pred))**2))"
      ],
      "execution_count": null,
      "outputs": []
    },
    {
      "cell_type": "code",
      "metadata": {
        "colab": {
          "base_uri": "https://localhost:8080/"
        },
        "id": "udW-Y-bHJorm",
        "outputId": "91b28841-7210-4e2f-d9a8-b67e986f259d"
      },
      "source": [
        "rmse = []\n",
        "for user in set(ratings.index): # index로 지정했던 user_id 사용.\n",
        "    y_true = ratings.loc[user]['rating']\n",
        "    y_pred = movie_mean[ratings.loc[user]['movie_id']] # 평점평균: 예측값\n",
        "    accuracy = RMSE(y_true, y_pred)\n",
        "    rmse.append(accuracy) # 현재 사용자의 RMSE\n",
        "print(np.mean(rmse)) # 전체 사용자의 RMSE의 평균"
      ],
      "execution_count": null,
      "outputs": [
        {
          "output_type": "stream",
          "text": [
            "0.996007224010567\n"
          ],
          "name": "stdout"
        }
      ]
    },
    {
      "cell_type": "code",
      "metadata": {
        "id": "_JI9QY7LJoui"
      },
      "source": [
        "# 사용자 집단별 추천\n",
        "u_cols = ['user_id', 'age', 'sex', 'occupation', 'zip_code']\n",
        "users = pd.read_csv('/u.user', sep='|', names=u_cols, encoding='latin-1')\n",
        "\n",
        "i_cols = ['movie_id', 'title', 'release date', 'video release date', 'IMDB URL', 'unknown', \n",
        "          'Action', 'Adventure', 'Animation', 'Children\\'s', 'Comedy', 'Crime', 'Documentary', \n",
        "          'Drama', 'Fantasy', 'Film-Noir', 'Horror', 'Musical', 'Mystery', 'Romance', 'Sci-Fi', \n",
        "          'Thriller', 'War', 'Western']\n",
        "movies = pd.read_csv('/u.item', sep='|', names=i_cols, encoding='latin-1')\n",
        "\n",
        "r_cols = ['user_id', 'movie_id', 'rating', 'timestamp']\n",
        "ratings = pd.read_csv('/u.data', sep='\\t', names=r_cols, encoding='latin-1')"
      ],
      "execution_count": null,
      "outputs": []
    },
    {
      "cell_type": "code",
      "metadata": {
        "id": "1UK3_mn7Jo-J"
      },
      "source": [
        "# timestamp 제거 \n",
        "ratings = ratings.drop('timestamp', axis=1)\n",
        "\n",
        "# movie ID와 title 빼고 다른 데이터 제거\n",
        "movies = movies[['movie_id', 'title']]"
      ],
      "execution_count": null,
      "outputs": []
    },
    {
      "cell_type": "code",
      "metadata": {
        "id": "m1ZdfPmIL-lB"
      },
      "source": [
        "# train, test set 분리\n",
        "from sklearn.model_selection import train_test_split\n",
        "x = ratings.copy()\n",
        "y = ratings['user_id'] # user_id별로 train_set, test_set 비율 동일하게 유지.\n",
        "# len(ratings['user_id'].unique()): 943개 train, test set 분리\n",
        "x_train, x_test, y_train, y_test = train_test_split(x, y, test_size=0.25, stratify=y)"
      ],
      "execution_count": null,
      "outputs": []
    },
    {
      "cell_type": "code",
      "metadata": {
        "id": "-fIk-IhTL-oA"
      },
      "source": [
        "# 모델별 RMSE를 계산하는 함수 \n",
        "def score(model):\n",
        "    id_pairs = zip(x_test['user_id'], x_test['movie_id']) # user, movie id pair 시킴.\n",
        "    y_pred = np.array([model(user, movie) for (user, movie) in id_pairs])\n",
        "    y_true = np.array(x_test['rating'])\n",
        "    return RMSE(y_true, y_pred)"
      ],
      "execution_count": null,
      "outputs": []
    },
    {
      "cell_type": "code",
      "metadata": {
        "id": "NYc3br0pJpCZ"
      },
      "source": [
        "# train 데이터로 Full matrix 구하기 \n",
        "# 평가하지 않은 조합은 NaN.\n",
        "rating_matrix = x_train.pivot(index='user_id', columns='movie_id', values='rating')"
      ],
      "execution_count": null,
      "outputs": []
    },
    {
      "cell_type": "code",
      "metadata": {
        "colab": {
          "base_uri": "https://localhost:8080/"
        },
        "id": "LiA8OHd8OUZG",
        "outputId": "b848c6a0-db70-411c-d2d8-9d22a2171e34"
      },
      "source": [
        "# 전체 평균으로 예측치를 계산하는 기본 모델\n",
        "# try,except는 test data에만 있는 영화로 인해 발생하는 오류 방지\n",
        "def best_seller(user_id, movie_id):\n",
        "    try:\n",
        "        rating = train_mean[movie_id]\n",
        "    except:\n",
        "        rating = 3.0\n",
        "    return rating\n",
        "\n",
        "train_mean = x_train.groupby(['movie_id'])['rating'].mean()\n",
        "score(best_seller)"
      ],
      "execution_count": null,
      "outputs": [
        {
          "output_type": "execute_result",
          "data": {
            "text/plain": [
              "1.0262391483556985"
            ]
          },
          "metadata": {
            "tags": []
          },
          "execution_count": 24
        }
      ]
    },
    {
      "cell_type": "code",
      "metadata": {
        "id": "_BddUE_yOUbx"
      },
      "source": [
        "# 성별 기준 집단 생성 후 예측값 계산. (공통키인 user_id 기준)\n",
        "\n",
        "merged_ratings = pd.merge(x_train, users)\n",
        "users = users.set_index('user_id')\n",
        "\n",
        "# gender별 평점평균 계산\n",
        "g_mean = merged_ratings[['movie_id', 'sex', 'rating']].groupby(['movie_id', 'sex'])['rating'].mean()"
      ],
      "execution_count": null,
      "outputs": []
    },
    {
      "cell_type": "code",
      "metadata": {
        "colab": {
          "base_uri": "https://localhost:8080/"
        },
        "id": "zDGjT3eUOUei",
        "outputId": "81be10d5-3d27-4bfd-b266-ac5890519cff"
      },
      "source": [
        "# gender별 평균을 예측치로 돌려주는 함수 \n",
        "def cf_gender(user_id, movie_id):\n",
        "    if movie_id in rating_matrix:\n",
        "        gender = users.loc[user_id]['sex']\n",
        "        if gender in g_mean[movie_id]: # 성별이 치우쳐져 rating 되어있을 수 있음.\n",
        "            gender_rating = g_mean[movie_id][gender]\n",
        "        else:\n",
        "            gender_rating = 3.0\n",
        "    else:\n",
        "        gender_rating = 3.0\n",
        "    return gender_rating\n",
        "\n",
        "score(cf_gender) # 성별에 따른 추천이 정확도 개선하지 못한다.(오히려 떨어짐)"
      ],
      "execution_count": null,
      "outputs": [
        {
          "output_type": "execute_result",
          "data": {
            "text/plain": [
              "1.0368477869381156"
            ]
          },
          "metadata": {
            "tags": []
          },
          "execution_count": 27
        }
      ]
    },
    {
      "cell_type": "markdown",
      "metadata": {
        "id": "wJIyF1eUHsGX"
      },
      "source": [
        "### 제 3장 협업 필터링 추천 시스템\n",
        "\n",
        ": 인구통계적 변수를 기준으로 나누지 않고, 취향을 기준으로 나눌 것.\n",
        "\n",
        ": 취향이 비슷한 사람들의 집단(neighbor)이 존재한다고 가정. 각 사용자의 평가의 유사성(simliarity) 계산."
      ]
    },
    {
      "cell_type": "markdown",
      "metadata": {
        "id": "pJFCWmfOomm2"
      },
      "source": [
        "#### 유사도 지표\n",
        "\n",
        "(1) 상관계수\n",
        "\n",
        "(2) 코사인 유사도: 아이템(차원), 사용자의 평가값(좌표값)\n",
        "\n",
        "-> 두 사용자의 평가값이 유사할수록 각도가 작다.\n",
        "\n",
        "(3) 타니모토 계수: binary data"
      ]
    },
    {
      "cell_type": "code",
      "metadata": {
        "id": "9r1JBhdNWVHU"
      },
      "source": [
        "# train set의 모든 가능한 사용자 pair의 Cosine similarities 계산\n",
        "\n",
        "from sklearn.metrics.pairwise import cosine_similarity\n",
        "matrix_dummy = rating_matrix.copy().fillna(0) # NA->0\n",
        "user_similarity = cosine_similarity(matrix_dummy, matrix_dummy) # 대칭 matrix\n",
        "user_similarity = pd.DataFrame(user_similarity, index=rating_matrix.index, columns=rating_matrix.index)\n",
        "# index 지정"
      ],
      "execution_count": null,
      "outputs": []
    },
    {
      "cell_type": "code",
      "metadata": {
        "colab": {
          "base_uri": "https://localhost:8080/"
        },
        "id": "l9gppVQcAChG",
        "outputId": "d1cb6f02-6e41-4bfe-a5bc-6a61d4ae50a8"
      },
      "source": [
        "# 주어진 영화의 (movie_id) 가중평균 rating을 계산하는 함수, \n",
        "# 가중치는 주어진 사용자와 다른 사용자 간의 유사도(user_similarity)\n",
        "def CF_simple(user_id, movie_id):\n",
        "    if movie_id in rating_matrix:\n",
        "        sim_scores = user_similarity[user_id].copy()\n",
        "        movie_ratings = rating_matrix[movie_id].copy()\n",
        "        # 현재 영화를 평가하지 않은 사용자의 index 가져오기 (가중평균 계산에서 빼기 위해)\n",
        "        none_rating_idx = movie_ratings[movie_ratings.isnull()].index\n",
        "        # 현재 영화를 평가하지 않은 사용자의 rating (null) 제거\n",
        "        movie_ratings = movie_ratings.dropna()\n",
        "        # 현재 영화를 평가하지 않은 사용자의 similarity값 제거\n",
        "        sim_scores = sim_scores.drop(none_rating_idx)\n",
        "        # 현재 영화를 평가한 모든 사용자의 가중평균값 구하기\n",
        "        mean_rating = np.dot(sim_scores, movie_ratings) / sim_scores.sum()\n",
        "    else:\n",
        "        mean_rating = 3.0\n",
        "    return mean_rating\n",
        "\n",
        "# 정확도 계산 (성별, 직업별 평균보다 개선됨)\n",
        "score(CF_simple)"
      ],
      "execution_count": null,
      "outputs": [
        {
          "output_type": "execute_result",
          "data": {
            "text/plain": [
              "1.0208231645078234"
            ]
          },
          "metadata": {
            "tags": []
          },
          "execution_count": 29
        }
      ]
    },
    {
      "cell_type": "markdown",
      "metadata": {
        "id": "G9YYInM6ZNRG"
      },
      "source": [
        "#### 이웃을 고려한 CF\n",
        "\n",
        "-> 이웃의 크기 줄이기\n",
        "\n",
        "-> K-nearest negihbors/Thresholding (이웃의 기준 변경)"
      ]
    },
    {
      "cell_type": "code",
      "metadata": {
        "id": "ch7gfBCJWVMl"
      },
      "source": [
        "# 모델별 RMSE를 계산하는 함수 \n",
        "def score(model, neighbor_size=0):\n",
        "    id_pairs = zip(x_test['user_id'], x_test['movie_id'])\n",
        "    y_pred = np.array([model(user, movie, neighbor_size) for (user, movie) in id_pairs])\n",
        "    y_true = np.array(x_test['rating'])\n",
        "    return RMSE(y_true, y_pred)"
      ],
      "execution_count": null,
      "outputs": []
    },
    {
      "cell_type": "code",
      "metadata": {
        "colab": {
          "base_uri": "https://localhost:8080/"
        },
        "id": "St4n9-bUZyEq",
        "outputId": "c717c5f8-e7cc-4415-8431-e5eed1fe71ef"
      },
      "source": [
        "# Neighbor size를 정해서 예측치를 계산하는 함수 \n",
        "def cf_knn(user_id, movie_id, neighbor_size=0):\n",
        "    if movie_id in rating_matrix:\n",
        "        sim_scores = user_similarity[user_id].copy()\n",
        "        movie_ratings = rating_matrix[movie_id].copy()\n",
        "        none_rating_idx = movie_ratings[movie_ratings.isnull()].index\n",
        "        movie_ratings = movie_ratings.drop(none_rating_idx)\n",
        "        sim_scores = sim_scores.drop(none_rating_idx)\n",
        "\n",
        "##### (2) Neighbor size가 지정되지 않은 경우        \n",
        "        if neighbor_size == 0:          \n",
        "            # 현재 영화를 평가한 모든 사용자의 가중평균값 구하기\n",
        "            mean_rating = np.dot(sim_scores, movie_ratings) / sim_scores.sum()\n",
        "\n",
        "##### (3) Neighbor size가 지정된 경우\n",
        "        else:                       \n",
        "            # 해당 영화를 평가한 사용자가 최소 2명이 되는 경우에만 계산\n",
        "            if len(sim_scores) > 1: \n",
        "                neighbor_size = min(neighbor_size, len(sim_scores))\n",
        "                sim_scores = np.array(sim_scores)\n",
        "                movie_ratings = np.array(movie_ratings)\n",
        "                # 유사도를 순서대로 정렬\n",
        "                user_idx = np.argsort(sim_scores)\n",
        "                # 가장 유사도가 높은 k명의 사용자 선정.\n",
        "                sim_scores = sim_scores[user_idx][-neighbor_size:]\n",
        "                movie_ratings = movie_ratings[user_idx][-neighbor_size:]\n",
        "                mean_rating = np.dot(sim_scores, movie_ratings) / sim_scores.sum()\n",
        "            else:\n",
        "                mean_rating = 3.0\n",
        "    else:\n",
        "        mean_rating = 3.0\n",
        "    return mean_rating\n",
        "\n",
        "# 정확도 계산 (이웃의 크기 고려하니 약간 개선됨.)\n",
        "score(cf_knn, neighbor_size=30)"
      ],
      "execution_count": null,
      "outputs": [
        {
          "output_type": "execute_result",
          "data": {
            "text/plain": [
              "1.0119463875917478"
            ]
          },
          "metadata": {
            "tags": []
          },
          "execution_count": 34
        }
      ]
    },
    {
      "cell_type": "markdown",
      "metadata": {
        "id": "5gcwdMsCev1I"
      },
      "source": [
        "#### 주어진 사용자에 대한 추천받기."
      ]
    },
    {
      "cell_type": "code",
      "metadata": {
        "id": "n2LUCHZcZyIa"
      },
      "source": [
        "from sklearn.metrics.pairwise import cosine_similarity\n",
        "# 실제 추천을 할 때에는 train, test set 나눌 필요 없음.\n",
        "rating_matrix = ratings.pivot_table(values='rating', index='user_id', columns='movie_id')\n",
        "matrix_dummy = rating_matrix.copy().fillna(0)\n",
        "user_similarity = cosine_similarity(matrix_dummy, matrix_dummy)\n",
        "user_similarity = pd.DataFrame(user_similarity, index=rating_matrix.index, columns=rating_matrix.index)"
      ],
      "execution_count": null,
      "outputs": []
    },
    {
      "cell_type": "code",
      "metadata": {
        "id": "0xH2LyuGfHsB"
      },
      "source": [
        "def recom_movie(user_id, n_items, neighbor_size=30):\n",
        "    # 현 사용자가 평가한 평점 데이터만 가져오기\n",
        "    user_movie = rating_matrix.loc[user_id].copy()\n",
        "    for movie in rating_matrix:\n",
        "        # 현 사용자가 이미 평가한 영화는 제외 (평점을 0으로)        \n",
        "        if pd.notnull(user_movie.loc[movie]):\n",
        "            user_movie.loc[movie] = 0\n",
        "        else:\n",
        "            user_movie.loc[movie] = cf_knn(user_id, movie, neighbor_size)\n",
        "\n",
        "    # 영화를 예상 평점에 따라 정렬해서 제목을 뽑아서 돌려 줌\n",
        "    movie_sort = user_movie.sort_values(ascending=False)[:n_items]\n",
        "    recom_movies = movies.loc[movie_sort.index] # 영화 정보 추출\n",
        "    recommendations = recom_movies['title']\n",
        "    return recommendations"
      ],
      "execution_count": null,
      "outputs": []
    },
    {
      "cell_type": "code",
      "metadata": {
        "colab": {
          "base_uri": "https://localhost:8080/"
        },
        "id": "chFSuzF4fHuU",
        "outputId": "30433adf-46fa-425e-9a15-ac1b2e0a344d"
      },
      "source": [
        "recom_movie(user_id=2, n_items=5, neighbor_size=30)"
      ],
      "execution_count": null,
      "outputs": [
        {
          "output_type": "execute_result",
          "data": {
            "text/plain": [
              "movie_id\n",
              "1293                     Ayn Rand: A Sense of Life (1997)\n",
              "1189                              That Old Feeling (1997)\n",
              "1467                                     Cure, The (1995)\n",
              "1500    Prisoner of the Mountains (Kavkazsky Plennik) ...\n",
              "318                       Everyone Says I Love You (1996)\n",
              "Name: title, dtype: object"
            ]
          },
          "metadata": {
            "tags": []
          },
          "execution_count": 38
        }
      ]
    },
    {
      "cell_type": "markdown",
      "metadata": {
        "id": "Y2rLnKPveXm5"
      },
      "source": [
        "#### 최적의 neighbor size 구하기"
      ]
    },
    {
      "cell_type": "code",
      "metadata": {
        "colab": {
          "base_uri": "https://localhost:8080/"
        },
        "id": "ZjWTO7XTACjL",
        "outputId": "49b107aa-0c41-41ab-e154-4378e73655d7"
      },
      "source": [
        "# train set으로 full matrix와 cosine similarity 구하기 \n",
        "rating_matrix = x_train.pivot_table(values='rating', index='user_id', columns='movie_id')\n",
        "from sklearn.metrics.pairwise import cosine_similarity\n",
        "matrix_dummy = rating_matrix.copy().fillna(0)\n",
        "user_similarity = cosine_similarity(matrix_dummy, matrix_dummy)\n",
        "user_similarity = pd.DataFrame(user_similarity, index=rating_matrix.index, columns=rating_matrix.index)\n",
        "for neighbor_size in [10, 20, 30, 40, 50, 60]:\n",
        "    print(\"Neighbor size = %d : RMSE = %.4f\" % (neighbor_size, score(cf_knn, neighbor_size)))\n",
        "\n",
        " # neighbor size가 30 정도에서 최소가 된다.\n",
        " # 그 후, 더 세밀하게 1단위로 변화시키면서 결과를 보면 된다.   "
      ],
      "execution_count": null,
      "outputs": [
        {
          "output_type": "stream",
          "text": [
            "Neighbor size = 10 : RMSE = 1.0300\n",
            "Neighbor size = 20 : RMSE = 1.0144\n",
            "Neighbor size = 30 : RMSE = 1.0119\n",
            "Neighbor size = 40 : RMSE = 1.0121\n",
            "Neighbor size = 50 : RMSE = 1.0130\n",
            "Neighbor size = 60 : RMSE = 1.0136\n"
          ],
          "name": "stdout"
        }
      ]
    },
    {
      "cell_type": "markdown",
      "metadata": {
        "id": "oMb6kv1NhPlB"
      },
      "source": [
        "#### 사용자의 평가경향(user bias)을 고려한 CF"
      ]
    },
    {
      "cell_type": "code",
      "metadata": {
        "id": "Ry6XSBXXlEjL"
      },
      "source": [
        "# train 데이터의 user의 rating 평균과 영화의 평점편차 계산 \n",
        "rating_mean = rating_matrix.mean(axis=1)\n",
        "rating_bias = (rating_matrix.T - rating_mean).T"
      ],
      "execution_count": null,
      "outputs": []
    },
    {
      "cell_type": "code",
      "metadata": {
        "id": "ZNHnRTpRAEHw"
      },
      "source": [
        "def CF_knn_bias(user_id, movie_id, neighbor_size=0):\n",
        "    if movie_id in rating_bias:\n",
        "        sim_scores = user_similarity[user_id].copy()\n",
        "        # 현 movie의 평점편차 가져오기\n",
        "        movie_ratings = rating_bias[movie_id].copy()\n",
        "        none_rating_idx = movie_ratings[movie_ratings.isnull()].index\n",
        "        movie_ratings = movie_ratings.drop(none_rating_idx)\n",
        "        sim_scores = sim_scores.drop(none_rating_idx)\n",
        "##### (2) Neighbor size가 지정되지 않은 경우        \n",
        "        if neighbor_size == 0:\n",
        "            prediction = np.dot(sim_scores, movie_ratings) / sim_scores.sum()\n",
        "            prediction = prediction + rating_mean[user_id]\n",
        "##### (3) Neighbor size가 지정된 경우            \n",
        "        else:           \n",
        "            if len(sim_scores) > 1:\n",
        "                neighbor_size = min(neighbor_size, len(sim_scores))\n",
        "                sim_scores = np.array(sim_scores)\n",
        "                movie_ratings = np.array(movie_ratings)\n",
        "                user_idx = np.argsort(sim_scores)\n",
        "                sim_scores = sim_scores[user_idx][-neighbor_size:]\n",
        "                movie_ratings = movie_ratings[user_idx][-neighbor_size:]\n",
        "                # 편차로 예측치 계산(예측치를 평점편차로 구함)\n",
        "                prediction = np.dot(sim_scores, movie_ratings) / sim_scores.sum()\n",
        "                # 예측값에 현 사용자의 평균 더하기\n",
        "                prediction = prediction + rating_mean[user_id]\n",
        "            else:\n",
        "                prediction = rating_mean[user_id]\n",
        "    else:\n",
        "        prediction = rating_mean[user_id]\n",
        "    return prediction"
      ],
      "execution_count": null,
      "outputs": []
    },
    {
      "cell_type": "code",
      "metadata": {
        "colab": {
          "base_uri": "https://localhost:8080/"
        },
        "id": "tnk63fWKh9Yn",
        "outputId": "b3cde22a-6d6a-4def-f5ae-49ef15cfc2df"
      },
      "source": [
        "score(CF_knn_bias, 30) # 평가 경향 고려했더니 개선됨."
      ],
      "execution_count": null,
      "outputs": [
        {
          "output_type": "execute_result",
          "data": {
            "text/plain": [
              "0.9441961190466248"
            ]
          },
          "metadata": {
            "tags": []
          },
          "execution_count": 42
        }
      ]
    },
    {
      "cell_type": "markdown",
      "metadata": {
        "id": "pnXoAItQmQS_"
      },
      "source": [
        "#### 신뢰도 가중\n",
        "\n",
        ": 공통으로 평가한 아이템의 수가 일정값 이상인 사용자만 이웃 사용자로 활용."
      ]
    },
    {
      "cell_type": "code",
      "metadata": {
        "id": "Y7jkQA2emdBX"
      },
      "source": [
        "# 공통으로 평가한 아이템의 수 계산\n",
        "\n",
        "rating_binary1 = np.array((rating_matrix > 0).astype(float)) # 평점이 있는 경우만 1\n",
        "rating_binary2 = rating_binary1.T\n",
        "counts = np.dot(rating_binary1, rating_binary2)\n",
        "# 행렬의 각 원소는 각각의 사용자가 공통으로 평가한 영화의 수\n",
        "# digonal은 각 사용자가 평가한 영화의 수\n",
        "counts = pd.DataFrame(counts, index=rating_matrix.index, columns=rating_matrix.index).fillna(0)"
      ],
      "execution_count": null,
      "outputs": []
    },
    {
      "cell_type": "code",
      "metadata": {
        "id": "RU4vzdzyh9ay"
      },
      "source": [
        "def CF_knn_bias_sig(user_id, movie_id, neighbor_size=0):\n",
        "    if movie_id in rating_bias:\n",
        "        sim_scores = user_similarity[user_id]\n",
        "        movie_ratings = rating_bias[movie_id]\n",
        "        # 현 movie에 대한 rating이 없는 사용자 표시\n",
        "        no_rating = movie_ratings.isnull()\n",
        "        # 현 사용자와 다른 사용자간 공통 평가 아이템 수 가져오기 \n",
        "        common_counts = counts[user_id]\n",
        "        # 공통으로 평가한 영화의 수가 SIG_LEVEL보다 낮은 사용자 표시\n",
        "        low_significance = common_counts < SIG_LEVEL\n",
        "        # 평가를 안 하였거나, SIG_LEVEL이 기준 이하인 user 제거\n",
        "        none_rating_idx = movie_ratings[no_rating | low_significance].index\n",
        "        movie_ratings = movie_ratings.drop(none_rating_idx)\n",
        "        sim_scores = sim_scores.drop(none_rating_idx)\n",
        "##### (2) Neighbor size가 지정되지 않은 경우        \n",
        "        if neighbor_size == 0:\n",
        "            prediction = np.dot(sim_scores, movie_ratings) / sim_scores.sum()\n",
        "            prediction = prediction + rating_mean[user_id]\n",
        "##### (3) Neighbor size가 지정된 경우            \n",
        "        else:\n",
        "            # 해당 영화를 평가한 사용자가 최소 MIN_RATINGS 이상인 경우에만 계산            \n",
        "            if len(sim_scores) > MIN_RATINGS:\n",
        "                neighbor_size = min(neighbor_size, len(sim_scores))\n",
        "                sim_scores = np.array(sim_scores)\n",
        "                movie_ratings = np.array(movie_ratings)\n",
        "                user_idx = np.argsort(sim_scores)\n",
        "                sim_scores = sim_scores[user_idx][-neighbor_size:]\n",
        "                movie_ratings = movie_ratings[user_idx][-neighbor_size:]\n",
        "                prediction = np.dot(sim_scores, movie_ratings) / sim_scores.sum()\n",
        "                prediction = prediction + rating_mean[user_id]\n",
        "            else:\n",
        "                prediction = rating_mean[user_id]\n",
        "    else:\n",
        "        prediction = rating_mean[user_id]\n",
        "    return prediction\n",
        "\n",
        "SIG_LEVEL = 3 #최소 신뢰도(공통 평가 영화 수)\n",
        "MIN_RATINGS = 2 #최소 사용자 수(현재 영화를 평가한 사용자 수)"
      ],
      "execution_count": null,
      "outputs": []
    },
    {
      "cell_type": "code",
      "metadata": {
        "colab": {
          "base_uri": "https://localhost:8080/"
        },
        "id": "9TD4Ed7ih90F",
        "outputId": "69da4fe9-6a34-4898-aa30-19ea3e9a1190"
      },
      "source": [
        "score(CF_knn_bias_sig, 30) #이웃의 수 30"
      ],
      "execution_count": null,
      "outputs": [
        {
          "output_type": "execute_result",
          "data": {
            "text/plain": [
              "0.943348411794892"
            ]
          },
          "metadata": {
            "tags": []
          },
          "execution_count": 46
        }
      ]
    },
    {
      "cell_type": "markdown",
      "metadata": {
        "id": "iJo4wEatoV-f"
      },
      "source": [
        "#### Item-Based CF\n",
        "\n",
        ": 예측 대상 사용자가 평가한 아이템의 평점과 다른 각 아이템과의 유사도를 가중해서 평균한 값을 그 아이템에 대한 예측값으로 사용."
      ]
    },
    {
      "cell_type": "code",
      "metadata": {
        "id": "MgGy8Hobo3hk"
      },
      "source": [
        "from sklearn.metrics.pairwise import cosine_similarity\n",
        "rating_matrix_t = np.transpose(rating_matrix)\n",
        "matrix_dummy = rating_matrix_t.copy().fillna(0)\n",
        "item_similarity = cosine_similarity(matrix_dummy, matrix_dummy)\n",
        "item_similarity = pd.DataFrame(item_similarity, index=rating_matrix_t.index, columns=rating_matrix_t.index)"
      ],
      "execution_count": null,
      "outputs": []
    },
    {
      "cell_type": "code",
      "metadata": {
        "id": "21vt6Mmph92D"
      },
      "source": [
        "# 주어진 영화의 (movie_id) 가중평균 rating을 계산하는 함수, \n",
        "# 가중치는 주어진 아이템과 다른 아이템 간의 유사도(item_similarity)\n",
        "\n",
        "def CF_IBCF(user_id, movie_id):\n",
        "    if movie_id in item_similarity:      # 현재 영화가 train set에 있는지 확인\n",
        "        # 현재 영화와 다른 영화의 similarity 값 가져오기\n",
        "        sim_scores = item_similarity[movie_id]\n",
        "        # 현 사용자의 모든 rating 값 가져오기\n",
        "        user_rating = rating_matrix_t[user_id]\n",
        "        # 사용자가 평가하지 않은 영화 index 가져오기\n",
        "        non_rating_idx = user_rating[user_rating.isnull()].index\n",
        "        # 사용자가 평가하지 않은 영화 제거\n",
        "        user_rating = user_rating.dropna()\n",
        "        # 사용자가 평가하지 않은 영화의 similarity 값 제거\n",
        "        sim_scores = sim_scores.drop(non_rating_idx)\n",
        "        # 현 영화에 대한 예상 rating 계산, 가중치는 현 영화와 사용자가 평가한 영화의 유사도\n",
        "        mean_rating = np.dot(sim_scores, user_rating) / sim_scores.sum()\n",
        "    else:\n",
        "        mean_rating = 3.0\n",
        "    return mean_rating"
      ],
      "execution_count": null,
      "outputs": []
    },
    {
      "cell_type": "code",
      "metadata": {
        "id": "I8bOdn5Gpgsq"
      },
      "source": [
        "def score(model):\n",
        "    id_pairs = zip(x_test['user_id'], x_test['movie_id'])\n",
        "    y_pred = np.array([model(user, movie) for (user, movie) in id_pairs])\n",
        "    y_true = np.array(x_test['rating'])\n",
        "    return RMSE(y_true, y_pred)"
      ],
      "execution_count": null,
      "outputs": []
    },
    {
      "cell_type": "code",
      "metadata": {
        "colab": {
          "base_uri": "https://localhost:8080/"
        },
        "id": "dWiwYh6qh94m",
        "outputId": "e184b106-3da2-4aca-cf43-799e1e4db047"
      },
      "source": [
        "score(CF_IBCF) #UBCF와 큰 차이는 없음."
      ],
      "execution_count": null,
      "outputs": [
        {
          "output_type": "execute_result",
          "data": {
            "text/plain": [
              "1.0177868674759176"
            ]
          },
          "metadata": {
            "tags": []
          },
          "execution_count": 52
        }
      ]
    },
    {
      "cell_type": "markdown",
      "metadata": {
        "id": "uTgoZpcOqdi2"
      },
      "source": [
        "#### 추천 시스템의 성과측정지표\n",
        "\n",
        ": binary data일 경우, 추천 아이템과 사용자가 실제 선택한 아이템을 비교하여야 한다.\n",
        "\n",
        "=> precision(정밀도): 추천 시스템이 추천한 아이템 중 실제 사용자가 선택한 아이템의 비율\n",
        "\n",
        "=> recall(재현율): 사용자가 실제로 선택한 전체 아이템 중에서 몇 개의 아이템을 올바르게 맞췄는가"
      ]
    },
    {
      "cell_type": "markdown",
      "metadata": {
        "id": "CWhLhYimpsig"
      },
      "source": [
        "### 제 4장 Matrix Factorization 기반 추천\n",
        "\n",
        "모델 기반 알고리즘: 데이터로부터 추천을 위한 모델을 구성한 후에 이 모델만 저장하고, 실제 추천을 할 때에는 이 모델을 사용해서 추천을 하는 방식. 약한 신호도 더 잘 잡아낸다."
      ]
    },
    {
      "cell_type": "markdown",
      "metadata": {
        "id": "0jivz5Efsljg"
      },
      "source": [
        "#### MF 방식의 원리\n",
        "\n",
        "MF(행렬 요인화): 평가 데이터 (사용자X아이템으로 구성된) 하나의 행렬을 2개의 행렬(사용자 행렬(P), 아이템 행렬(Q))로 분해하는 방법\n",
        "\n",
        "P,Q 행렬에서 공통인 K개의 요인(잠재요인)\n",
        "\n",
        "=> 잠재요인을 보면 어떤 영화가 어떤 사용자 취향에 맞을지 예상할 수 있음."
      ]
    },
    {
      "cell_type": "markdown",
      "metadata": {
        "id": "xTgHWIAIuWhA"
      },
      "source": [
        "#### SGD(stochastic gradient decent)를 사용한 MF 알고리즘"
      ]
    },
    {
      "cell_type": "code",
      "metadata": {
        "id": "V6HloBy0h96c"
      },
      "source": [
        "# MF class\n",
        "class MF():\n",
        "    def __init__(self, ratings, K, alpha, beta, iterations, verbose=True):\n",
        "        self.R = np.array(ratings)\n",
        "        self.num_users, self.num_items = np.shape(self.R)\n",
        "        self.K = K # 잠재요인의 수\n",
        "        self.alpha = alpha # 학습률\n",
        "        self.beta = beta # 정규화 계수\n",
        "        self.iterations = iterations # sgd 계산을 할 때의 반복 횟수\n",
        "        self.verbose = verbose # sgd 중간 학습과정 출력 여부\n",
        "\n",
        "    # Root Mean Squared Error (RMSE) 계산\n",
        "    def rmse(self):\n",
        "        xs, ys = self.R.nonzero() # R에서 평점이 있는 요소의 인덱스 가져옴.\n",
        "        self.predictions = []\n",
        "        self.errors = []\n",
        "        for x, y in zip(xs, ys):\n",
        "            prediction = self.get_prediction(x, y)\n",
        "            self.predictions.append(prediction)\n",
        "            self.errors.append(self.R[x, y] - prediction)\n",
        "        self.predictions = np.array(self.predictions)\n",
        "        self.errors = np.array(self.errors)\n",
        "        return np.sqrt(np.mean(self.errors**2)) # error 사용하여 RMSE 계산\n",
        "\n",
        "    def train(self): # 정해진 횟수 만큼 P,Q,bu,bd값 업데이트\n",
        "\n",
        "        # 평균 0, 표준편차:1/k인 정규분포 난수로 초기화\n",
        "        self.P = np.random.normal(scale=1./self.K, size=(self.num_users, self.K))\n",
        "        self.Q = np.random.normal(scale=1./self.K, size=(self.num_items, self.K))\n",
        "\n",
        "        # bu,bd 초기화 + 전체평균 b 저장\n",
        "        self.b_u = np.zeros(self.num_users)\n",
        "        self.b_d = np.zeros(self.num_items)\n",
        "        self.b = np.mean(self.R[self.R.nonzero()])\n",
        "\n",
        "        # R 중 평점이 있는 요소의 인덱스 가져옴.\n",
        "        rows, columns = self.R.nonzero()\n",
        "        self.samples = [(i, j, self.R[i,j]) for i, j in zip(rows, columns)]\n",
        "\n",
        "        # SGD 개선 기록, 10회 반복마다 중간 결과 표시\n",
        "        training_process = []\n",
        "        for i in range(self.iterations):\n",
        "            np.random.shuffle(self.samples)\n",
        "            self.sgd()\n",
        "            rmse = self.rmse()\n",
        "            training_process.append((i+1, rmse))\n",
        "            if self.verbose:\n",
        "                if (i+1) % 10 == 0:\n",
        "                    print(\"Iteration: %d ; Train RMSE = %.4f \" % (i+1, rmse))\n",
        "        return training_process\n",
        "\n",
        "    # 평점 예측값 구하는 함수.\n",
        "    def get_prediction(self, i, j):\n",
        "        prediction = self.b + self.b_u[i] + self.b_d[j] + self.P[i, :].dot(self.Q[j, :].T)\n",
        "        return prediction\n",
        "\n",
        "    # SGD 실행 함수\n",
        "    def sgd(self):\n",
        "        for i, j, r in self.samples:\n",
        "            prediction = self.get_prediction(i, j)\n",
        "            e = (r - prediction)\n",
        "            self.b_u[i] += self.alpha * (e - self.beta * self.b_u[i])\n",
        "            self.b_d[j] += self.alpha * (e - self.beta * self.b_d[j])\n",
        "            self.P[i, :] += self.alpha * (e * self.Q[j, :] - self.beta * self.P[i,:])\n",
        "            self.Q[j, :] += self.alpha * (e * self.P[i, :] - self.beta * self.Q[j,:])"
      ],
      "execution_count": null,
      "outputs": []
    },
    {
      "cell_type": "code",
      "metadata": {
        "colab": {
          "base_uri": "https://localhost:8080/"
        },
        "id": "WkrWE-tHsiY7",
        "outputId": "01424680-62d6-4bd8-dcec-619fb8bc43d6"
      },
      "source": [
        "# 전체 데이터 사용 MF\n",
        "R_temp = ratings.pivot(index='user_id', columns='movie_id', values='rating').fillna(0)\n",
        "mf = MF(R_temp, K=30, alpha=0.001, beta=0.02, iterations=100, verbose=True)\n",
        "train_process = mf.train()"
      ],
      "execution_count": null,
      "outputs": [
        {
          "output_type": "stream",
          "text": [
            "Iteration: 10 ; Train RMSE = 0.9585 \n",
            "Iteration: 20 ; Train RMSE = 0.9373 \n",
            "Iteration: 30 ; Train RMSE = 0.9280 \n",
            "Iteration: 40 ; Train RMSE = 0.9225 \n",
            "Iteration: 50 ; Train RMSE = 0.9184 \n",
            "Iteration: 60 ; Train RMSE = 0.9145 \n",
            "Iteration: 70 ; Train RMSE = 0.9099 \n",
            "Iteration: 80 ; Train RMSE = 0.9036 \n",
            "Iteration: 90 ; Train RMSE = 0.8947 \n",
            "Iteration: 100 ; Train RMSE = 0.8826 \n"
          ],
          "name": "stdout"
        }
      ]
    },
    {
      "cell_type": "markdown",
      "metadata": {
        "id": "9jd2ZT-Qzyf2"
      },
      "source": [
        "#### train,test 분리 MF 알고리즘"
      ]
    },
    {
      "cell_type": "code",
      "metadata": {
        "id": "wEDLZuPW0bFD"
      },
      "source": [
        "from sklearn.utils import shuffle\n",
        "TRAIN_SIZE = 0.75\n",
        "ratings = shuffle(ratings, random_state=1)\n",
        "cutoff = int(TRAIN_SIZE * len(ratings)) # 전체 데이터 중 Train set의 데이터 개수\n",
        "ratings_train = ratings.iloc[:cutoff]\n",
        "ratings_test = ratings.iloc[cutoff:]"
      ],
      "execution_count": null,
      "outputs": []
    },
    {
      "cell_type": "code",
      "metadata": {
        "id": "LVtcJvzDh984"
      },
      "source": [
        "# New MF class for training & testing\n",
        "# 사용자 아이디(user_id)와 아이템 아이디(item_id)를 인덱스와 맵핑한다.\n",
        "\n",
        "class NEW_MF():\n",
        "    def __init__(self, ratings, K, alpha, beta, iterations, verbose=True):\n",
        "        self.R = np.array(ratings)\n",
        "##### >>>>> (2) user_id, item_id를 R의 index와 매핑하기 위한 dictionary 생성\n",
        "        item_id_index = []\n",
        "        index_item_id = []\n",
        "        for i, one_id in enumerate(ratings):\n",
        "            item_id_index.append([one_id, i])\n",
        "            index_item_id.append([i, one_id])\n",
        "        self.item_id_index = dict(item_id_index)\n",
        "        self.index_item_id = dict(index_item_id)\n",
        "\n",
        "        user_id_index = []\n",
        "        index_user_id = []\n",
        "        for i, one_id in enumerate(ratings.T):\n",
        "            user_id_index.append([one_id, i])\n",
        "            index_user_id.append([i, one_id])\n",
        "        self.user_id_index = dict(user_id_index)\n",
        "        self.index_user_id = dict(index_user_id)\n",
        "\n",
        "#### <<<<< (2)\n",
        "        self.num_users, self.num_items = np.shape(self.R)\n",
        "        self.K = K\n",
        "        self.alpha = alpha\n",
        "        self.beta = beta\n",
        "        self.iterations = iterations\n",
        "        self.verbose = verbose\n",
        "    # train set의 RMSE 계산\n",
        "    def rmse(self):\n",
        "        xs, ys = self.R.nonzero()\n",
        "        self.predictions = []\n",
        "        self.errors = []\n",
        "        for x, y in zip(xs, ys):\n",
        "            prediction = self.get_prediction(x, y)\n",
        "            self.predictions.append(prediction)\n",
        "            self.errors.append(self.R[x, y] - prediction)\n",
        "        self.predictions = np.array(self.predictions)\n",
        "        self.errors = np.array(self.errors)\n",
        "        return np.sqrt(np.mean(self.errors**2))\n",
        "    # Ratings for user i and item j\n",
        "    def get_prediction(self, i, j):\n",
        "        prediction = self.b + self.b_u[i] + self.b_d[j] + self.P[i, :].dot(self.Q[j, :].T)\n",
        "        return prediction\n",
        "    # Stochastic gradient descent to get optimized P and Q matrix\n",
        "    def sgd(self):\n",
        "        for i, j, r in self.samples:\n",
        "            prediction = self.get_prediction(i, j)\n",
        "            e = (r - prediction)\n",
        "            self.b_u[i] += self.alpha * (e - self.beta * self.b_u[i])\n",
        "            self.b_d[j] += self.alpha * (e - self.beta * self.b_d[j])\n",
        "            self.P[i, :] += self.alpha * (e * self.Q[j, :] - self.beta * self.P[i,:])\n",
        "            self.Q[j, :] += self.alpha * (e * self.P[i, :] - self.beta * self.Q[j,:])\n",
        "\n",
        "##### >>>>> (3)\n",
        "    # Test set을 선정\n",
        "    def set_test(self, ratings_test):\n",
        "        test_set = []\n",
        "        for i in range(len(ratings_test)):      # test 데이터에 있는 각 데이터에 대해서\n",
        "            x = self.user_id_index[ratings_test.iloc[i, 0]]\n",
        "            y = self.item_id_index[ratings_test.iloc[i, 1]]\n",
        "            z = ratings_test.iloc[i, 2] # 현재 사용자-아이템의 평점\n",
        "            test_set.append([x, y, z])\n",
        "            self.R[x, y] = 0                    # Setting test set ratings to 0\n",
        "        self.test_set = test_set\n",
        "        return test_set                       \n",
        "\n",
        "    # Test set의 RMSE 계산\n",
        "    def test_rmse(self):\n",
        "        error = 0\n",
        "        for one_set in self.test_set:\n",
        "            predicted = self.get_prediction(one_set[0], one_set[1])\n",
        "            error += pow(one_set[2] - predicted, 2)\n",
        "        return np.sqrt(error/len(self.test_set))\n",
        "\n",
        "    # Training 하면서 test set의 정확도를 계산\n",
        "    def test(self):\n",
        "        self.P = np.random.normal(scale=1./self.K, size=(self.num_users, self.K))\n",
        "        self.Q = np.random.normal(scale=1./self.K, size=(self.num_items, self.K))\n",
        "        self.b_u = np.zeros(self.num_users)\n",
        "        self.b_d = np.zeros(self.num_items)\n",
        "        self.b = np.mean(self.R[self.R.nonzero()])\n",
        "\n",
        "        # List of training samples\n",
        "        rows, columns = self.R.nonzero() #train set에서 test set에 해당하는 부분은 0으로 바꾸었기 때문에, R 전체가 train set이 된다.\n",
        "        self.samples = [(i, j, self.R[i,j]) for i, j in zip(rows, columns)]\n",
        "\n",
        "        # SGD\n",
        "        training_process = []\n",
        "        for i in range(self.iterations):\n",
        "            np.random.shuffle(self.samples)\n",
        "            self.sgd()\n",
        "            rmse1 = self.rmse() # train set의 RMSE\n",
        "            rmse2 = self.test_rmse() # test set의 RMSE\n",
        "            training_process.append((i+1, rmse1, rmse2))\n",
        "            if self.verbose:\n",
        "                if (i+1) % 10 == 0:\n",
        "                    print(\"Iteration: %d ; Train RMSE = %.4f ; Test RMSE = %.4f\" % (i+1, rmse1, rmse2))\n",
        "        return training_process\n",
        "\n",
        "    # Ratings for given user_id and item_id\n",
        "    def get_one_prediction(self, user_id, item_id):\n",
        "        return self.get_prediction(self.user_id_index[user_id], self.item_id_index[item_id])\n",
        "\n",
        "    # Full user-movie rating matrix\n",
        "    def full_prediction(self):\n",
        "        return self.b + self.b_u[:,np.newaxis] + self.b_d[np.newaxis,:] + self.P.dot(self.Q.T)"
      ],
      "execution_count": null,
      "outputs": []
    },
    {
      "cell_type": "code",
      "metadata": {
        "colab": {
          "base_uri": "https://localhost:8080/"
        },
        "id": "_94-h_ZXh9_C",
        "outputId": "3f4a7d28-3b97-4875-d1b1-1e1dd5232fad"
      },
      "source": [
        "R_temp = ratings.pivot(index='user_id', columns='movie_id', values='rating').fillna(0)\n",
        "mf = NEW_MF(R_temp, K=30, alpha=0.001, beta=0.02, iterations=100, verbose=True)\n",
        "test_set = mf.set_test(ratings_test)\n",
        "result = mf.test()"
      ],
      "execution_count": null,
      "outputs": [
        {
          "output_type": "stream",
          "text": [
            "Iteration: 10 ; Train RMSE = 0.9659 ; Test RMSE = 0.9834\n",
            "Iteration: 20 ; Train RMSE = 0.9410 ; Test RMSE = 0.9645\n",
            "Iteration: 30 ; Train RMSE = 0.9298 ; Test RMSE = 0.9567\n",
            "Iteration: 40 ; Train RMSE = 0.9231 ; Test RMSE = 0.9524\n",
            "Iteration: 50 ; Train RMSE = 0.9184 ; Test RMSE = 0.9497\n",
            "Iteration: 60 ; Train RMSE = 0.9145 ; Test RMSE = 0.9479\n",
            "Iteration: 70 ; Train RMSE = 0.9109 ; Test RMSE = 0.9464\n",
            "Iteration: 80 ; Train RMSE = 0.9069 ; Test RMSE = 0.9451\n",
            "Iteration: 90 ; Train RMSE = 0.9020 ; Test RMSE = 0.9436\n",
            "Iteration: 100 ; Train RMSE = 0.8957 ; Test RMSE = 0.9418\n"
          ],
          "name": "stdout"
        }
      ]
    },
    {
      "cell_type": "code",
      "metadata": {
        "colab": {
          "base_uri": "https://localhost:8080/"
        },
        "id": "Q1xbllYW0P1f",
        "outputId": "91b31e7d-3597-48f2-e566-695fa8b2b9ab"
      },
      "source": [
        "print(mf.full_prediction())\n",
        "print(mf.get_one_prediction(1, 2)) # user_id가 1인 사용자의 item_id 2번 아이템에 대한 예측치"
      ],
      "execution_count": null,
      "outputs": [
        {
          "output_type": "stream",
          "text": [
            "[[3.83831727 3.42728376 3.06180202 ... 3.34209285 3.47416976 3.46382333]\n",
            " [3.91471585 3.49663837 3.14996475 ... 3.43267438 3.54809987 3.54228495]\n",
            " [3.28950795 2.89736005 2.53706809 ... 2.81544201 2.93304898 2.93332613]\n",
            " ...\n",
            " [4.20962379 3.79153408 3.43862173 ... 3.72131153 3.83076693 3.81890373]\n",
            " [4.3242727  3.89567571 3.56321549 ... 3.82291673 3.93934757 3.93963273]\n",
            " [3.73904627 3.3600233  2.99424802 ... 3.3024826  3.44593186 3.41606257]]\n",
            "3.427283757709133\n"
          ],
          "name": "stdout"
        }
      ]
    },
    {
      "cell_type": "markdown",
      "metadata": {
        "id": "cXKUhJ860CAc"
      },
      "source": [
        "#### MF의 최적 파라미터 찾기"
      ]
    },
    {
      "cell_type": "code",
      "metadata": {
        "colab": {
          "base_uri": "https://localhost:8080/"
        },
        "id": "002uFj9yh-CZ",
        "outputId": "e9ce1fe9-e898-4f93-c8c3-5a638ce58f7c"
      },
      "source": [
        "# 최적의 K값 찾기\n",
        "results = []\n",
        "index = []\n",
        "for K in range(200, 211, 10): # 시간 많이 걸려서 200,210만 했어요\n",
        "    print('K =', K)\n",
        "    R_temp = ratings.pivot(index='user_id', columns='movie_id', values='rating').fillna(0)\n",
        "    mf = NEW_MF(R_temp, K=K, alpha=0.001, beta=0.02, iterations=30, verbose=True)\n",
        "    test_set = mf.set_test(ratings_test) # 앞에서 분리한 test set 지정.\n",
        "    result = mf.test()\n",
        "    index.append(K)\n",
        "    results.append(result)"
      ],
      "execution_count": null,
      "outputs": [
        {
          "output_type": "stream",
          "text": [
            "K = 200\n",
            "Iteration: 10 ; Train RMSE = 0.9664 ; Test RMSE = 0.9834\n",
            "Iteration: 20 ; Train RMSE = 0.9420 ; Test RMSE = 0.9644\n",
            "Iteration: 30 ; Train RMSE = 0.9313 ; Test RMSE = 0.9566\n",
            "K = 210\n",
            "Iteration: 10 ; Train RMSE = 0.9664 ; Test RMSE = 0.9834\n",
            "Iteration: 20 ; Train RMSE = 0.9420 ; Test RMSE = 0.9645\n",
            "Iteration: 30 ; Train RMSE = 0.9313 ; Test RMSE = 0.9566\n"
          ],
          "name": "stdout"
        }
      ]
    },
    {
      "cell_type": "code",
      "metadata": {
        "colab": {
          "base_uri": "https://localhost:8080/",
          "height": 283
        },
        "id": "ZgnHVSf2h-D8",
        "outputId": "0602d116-fbcc-4cfe-cd50-99d2f96d3596"
      },
      "source": [
        "# 최적의 iterations 값 찾기\n",
        "summary = []\n",
        "for i in range(len(results)):\n",
        "    RMSE = []\n",
        "    for result in results[i]:\n",
        "        RMSE.append(result[2])\n",
        "    min = np.min(RMSE)\n",
        "    j = RMSE.index(min)\n",
        "    summary.append([index[i], j+1, RMSE[j]])\n",
        "\n",
        "# 그래프 그리기\n",
        "import matplotlib.pyplot as plt\n",
        "plt.plot(index, [x[2] for x in summary])\n",
        "plt.ylim(0.99, 0.94)\n",
        "plt.xlabel('K')\n",
        "plt.ylabel('RMSE')\n",
        "plt.show() # K=200을 최적의 K로 볼 것."
      ],
      "execution_count": null,
      "outputs": [
        {
          "output_type": "display_data",
          "data": {
            "image/png": "[encoded data removed]",
            "text/plain": [
              "<Figure size 432x288 with 1 Axes>"
            ]
          },
          "metadata": {
            "tags": [],
            "needs_background": "light"
          }
        }
      ]
    },
    {
      "cell_type": "markdown",
      "metadata": {
        "id": "3U_1HX9T6qOy"
      },
      "source": [
        "### 제 5장 Surprise 패키지 사용"
      ]
    },
    {
      "cell_type": "code",
      "metadata": {
        "colab": {
          "base_uri": "https://localhost:8080/"
        },
        "id": "1DOfTwXDgcLL",
        "outputId": "61f4ec8a-dbad-4cfb-ab8f-c17e3bcf9e72"
      },
      "source": [
        "! pip install scikit-surprise"
      ],
      "execution_count": null,
      "outputs": [
        {
          "output_type": "stream",
          "text": [
            "Collecting scikit-surprise\n",
            "\u001b[?25l  Downloading https://files.pythonhosted.org/packages/97/37/5d334adaf5ddd65da99fc65f6507e0e4599d092ba048f4302fe8775619e8/scikit-surprise-1.1.1.tar.gz (11.8MB)\n",
            "\u001b[K     |████████████████████████████████| 11.8MB 5.8MB/s \n",
            "\u001b[?25hRequirement already satisfied: joblib>=0.11 in /usr/local/lib/python3.7/dist-packages (from scikit-surprise) (1.0.1)\n",
            "Requirement already satisfied: numpy>=1.11.2 in /usr/local/lib/python3.7/dist-packages (from scikit-surprise) (1.19.5)\n",
            "Requirement already satisfied: scipy>=1.0.0 in /usr/local/lib/python3.7/dist-packages (from scikit-surprise) (1.4.1)\n",
            "Requirement already satisfied: six>=1.10.0 in /usr/local/lib/python3.7/dist-packages (from scikit-surprise) (1.15.0)\n",
            "Building wheels for collected packages: scikit-surprise\n",
            "  Building wheel for scikit-surprise (setup.py) ... \u001b[?25l\u001b[?25hdone\n",
            "  Created wheel for scikit-surprise: filename=scikit_surprise-1.1.1-cp37-cp37m-linux_x86_64.whl size=1617541 sha256=ad9dd6dc9d48caeaadba53f68d790cc968abe227453c353d2c670d255fd813f7\n",
            "  Stored in directory: /root/.cache/pip/wheels/78/9c/3d/41b419c9d2aff5b6e2b4c0fc8d25c538202834058f9ed110d0\n",
            "Successfully built scikit-surprise\n",
            "Installing collected packages: scikit-surprise\n",
            "Successfully installed scikit-surprise-1.1.1\n"
          ],
          "name": "stdout"
        }
      ]
    },
    {
      "cell_type": "code",
      "metadata": {
        "id": "4S-uO4GcgcNc"
      },
      "source": [
        "from surprise import BaselineOnly\n",
        "from surprise import KNNWithMeans\n",
        "from surprise import SVD\n",
        "from surprise import SVDpp\n",
        "from surprise import Dataset\n",
        "from surprise import accuracy\n",
        "from surprise import Reader\n",
        "from surprise.model_selection import cross_validate\n",
        "from surprise.model_selection import train_test_split"
      ],
      "execution_count": null,
      "outputs": []
    },
    {
      "cell_type": "code",
      "metadata": {
        "colab": {
          "base_uri": "https://localhost:8080/"
        },
        "id": "5YPXlkR0gcQA",
        "outputId": "efdd925d-0dfe-4820-f8b3-0ff81f6a1793"
      },
      "source": [
        "data = Dataset.load_builtin('ml-100k')\n",
        "trainset, testset = train_test_split(data, test_size=0.25)\n",
        "\n",
        "algo = KNNWithMeans()\n",
        "algo.fit(trainset)\n",
        "predictions = algo.test(testset)\n",
        "accuracy.rmse(predictions)"
      ],
      "execution_count": null,
      "outputs": [
        {
          "output_type": "stream",
          "text": [
            "Dataset ml-100k could not be found. Do you want to download it? [Y/n] Y\n",
            "Trying to download dataset from http://files.grouplens.org/datasets/movielens/ml-100k.zip...\n",
            "Done! Dataset ml-100k has been saved to /root/.surprise_data/ml-100k\n",
            "Computing the msd similarity matrix...\n",
            "Done computing similarity matrix.\n",
            "RMSE: 0.9540\n"
          ],
          "name": "stdout"
        },
        {
          "output_type": "execute_result",
          "data": {
            "text/plain": [
              "0.9540080061420287"
            ]
          },
          "metadata": {
            "tags": []
          },
          "execution_count": 66
        }
      ]
    },
    {
      "cell_type": "code",
      "metadata": {
        "colab": {
          "base_uri": "https://localhost:8080/",
          "height": 410
        },
        "id": "_lOcYNTKgcSf",
        "outputId": "db170f53-5b90-44cc-f386-013926812aae"
      },
      "source": [
        "# 알고리즘 비교\n",
        "algorithms = [BaselineOnly, KNNWithMeans, SVD, SVDpp] # 여기서는 SVDpp가 가장 정확.\n",
        "names = []\n",
        "results = []\n",
        "for option in algorithms:\n",
        "    algo = option()\n",
        "    names.append(option.__name__)       # 알고리즘 이름 \n",
        "    algo.fit(trainset)\n",
        "    predictions = algo.test(testset)\n",
        "    results.append(accuracy.rmse(predictions))\n",
        "names = np.array(names)\n",
        "results = np.array(results)\n",
        "\n",
        "# 결과를 그래프로 표시\n",
        "import matplotlib.pyplot as plt\n",
        "index = np.argsort(results) #정확도 순서대로 정렬한 인덱스 받아온다\n",
        "plt.ylim(0.8, 1)\n",
        "plt.plot(names[index], results[index])\n",
        "results[index]"
      ],
      "execution_count": null,
      "outputs": [
        {
          "output_type": "stream",
          "text": [
            "Estimating biases using als...\n",
            "RMSE: 0.9467\n",
            "Computing the msd similarity matrix...\n",
            "Done computing similarity matrix.\n",
            "RMSE: 0.9540\n",
            "RMSE: 0.9417\n",
            "RMSE: 0.9230\n"
          ],
          "name": "stdout"
        },
        {
          "output_type": "execute_result",
          "data": {
            "text/plain": [
              "array([0.92300196, 0.94174704, 0.94669289, 0.95400801])"
            ]
          },
          "metadata": {
            "tags": []
          },
          "execution_count": 67
        },
        {
          "output_type": "display_data",
          "data": {
            "image/png": "[encoded data removed]",
            "text/plain": [
              "<Figure size 432x288 with 1 Axes>"
            ]
          },
          "metadata": {
            "tags": [],
            "needs_background": "light"
          }
        }
      ]
    },
    {
      "cell_type": "code",
      "metadata": {
        "colab": {
          "base_uri": "https://localhost:8080/"
        },
        "id": "-tqRCTvmgcUE",
        "outputId": "278fbd50-0bcf-4c73-abda-73990b5e82bb"
      },
      "source": [
        "# 알고리즘 옵션 변경, 정확도 계산\n",
        "sim_options = {'name': 'pearson_baseline',\n",
        "               'user_based': True}\n",
        "algo = KNNWithMeans(k=30, sim_options=sim_options)\n",
        "\n",
        "algo.fit(trainset)\n",
        "predictions = algo.test(testset)\n",
        "accuracy.rmse(predictions)"
      ],
      "execution_count": null,
      "outputs": [
        {
          "output_type": "stream",
          "text": [
            "Estimating biases using als...\n",
            "Computing the pearson_baseline similarity matrix...\n",
            "Done computing similarity matrix.\n",
            "RMSE: 0.9422\n"
          ],
          "name": "stdout"
        },
        {
          "output_type": "execute_result",
          "data": {
            "text/plain": [
              "0.942176868902798"
            ]
          },
          "metadata": {
            "tags": []
          },
          "execution_count": 68
        }
      ]
    },
    {
      "cell_type": "code",
      "metadata": {
        "colab": {
          "base_uri": "https://localhost:8080/"
        },
        "id": "VsmLs7TB_JxX",
        "outputId": "b79f2eb9-c382-41e2-ac3c-78f16ce834a1"
      },
      "source": [
        "# 다양한 Neighbor size 비교, 여기서는 K=40일때 최선.\n",
        "result = []\n",
        "for neighbor_size in (10, 20, 30, 40, 50, 60):\n",
        "    algo = KNNWithMeans(k=neighbor_size, sim_options={'name':\n",
        "           'pearson_baseline', 'user_based': True}) # UBCF사용, 유사도지표:pearson_baseline\n",
        "    algo.fit(trainset)\n",
        "    predictions = algo.test(testset)\n",
        "    result.append([neighbor_size, accuracy.rmse(predictions)])\n",
        "result"
      ],
      "execution_count": null,
      "outputs": [
        {
          "output_type": "stream",
          "text": [
            "Estimating biases using als...\n",
            "Computing the pearson_baseline similarity matrix...\n",
            "Done computing similarity matrix.\n",
            "RMSE: 0.9565\n",
            "Estimating biases using als...\n",
            "Computing the pearson_baseline similarity matrix...\n",
            "Done computing similarity matrix.\n",
            "RMSE: 0.9442\n",
            "Estimating biases using als...\n",
            "Computing the pearson_baseline similarity matrix...\n",
            "Done computing similarity matrix.\n",
            "RMSE: 0.9422\n",
            "Estimating biases using als...\n",
            "Computing the pearson_baseline similarity matrix...\n",
            "Done computing similarity matrix.\n",
            "RMSE: 0.9415\n",
            "Estimating biases using als...\n",
            "Computing the pearson_baseline similarity matrix...\n",
            "Done computing similarity matrix.\n",
            "RMSE: 0.9418\n",
            "Estimating biases using als...\n",
            "Computing the pearson_baseline similarity matrix...\n",
            "Done computing similarity matrix.\n",
            "RMSE: 0.9422\n"
          ],
          "name": "stdout"
        },
        {
          "output_type": "execute_result",
          "data": {
            "text/plain": [
              "[[10, 0.9565477041648505],\n",
              " [20, 0.9441555760179853],\n",
              " [30, 0.942176868902798],\n",
              " [40, 0.9415067906687419],\n",
              " [50, 0.9417847292665135],\n",
              " [60, 0.9422154447789063]]"
            ]
          },
          "metadata": {
            "tags": []
          },
          "execution_count": 69
        }
      ]
    },
    {
      "cell_type": "code",
      "metadata": {
        "colab": {
          "base_uri": "https://localhost:8080/"
        },
        "id": "SVTCKv2z_J0d",
        "outputId": "0273d983-83b4-4b9b-c537-17722c49a02f"
      },
      "source": [
        "# KNN 다양한 파라메터 비교\n",
        "from surprise.model_selection import GridSearchCV\n",
        "param_grid = {'k': [5, 10, 15, 25],\n",
        "              'sim_options': {'name': ['pearson_baseline', 'cosine'],\n",
        "                              'user_based': [True, False]} # UBCF,IBCF 비교\n",
        "              }\n",
        "gs = GridSearchCV(KNNWithMeans, param_grid, measures=['rmse'], cv=4)\n",
        "gs.fit(data)\n",
        "\n",
        "# 최적 RMSE 출력\n",
        "print(gs.best_score['rmse'])\n",
        "\n",
        "# 최적 RMSE의 parameter\n",
        "print(gs.best_params['rmse'])"
      ],
      "execution_count": null,
      "outputs": [
        {
          "output_type": "stream",
          "text": [
            "Estimating biases using als...\n",
            "Computing the pearson_baseline similarity matrix...\n",
            "Done computing similarity matrix.\n",
            "Estimating biases using als...\n",
            "Computing the pearson_baseline similarity matrix...\n",
            "Done computing similarity matrix.\n",
            "Estimating biases using als...\n",
            "Computing the pearson_baseline similarity matrix...\n",
            "Done computing similarity matrix.\n",
            "Estimating biases using als...\n",
            "Computing the pearson_baseline similarity matrix...\n",
            "Done computing similarity matrix.\n",
            "Estimating biases using als...\n",
            "Computing the pearson_baseline similarity matrix...\n",
            "Done computing similarity matrix.\n",
            "Estimating biases using als...\n",
            "Computing the pearson_baseline similarity matrix...\n",
            "Done computing similarity matrix.\n",
            "Estimating biases using als...\n",
            "Computing the pearson_baseline similarity matrix...\n",
            "Done computing similarity matrix.\n",
            "Estimating biases using als...\n",
            "Computing the pearson_baseline similarity matrix...\n",
            "Done computing similarity matrix.\n",
            "Computing the cosine similarity matrix...\n",
            "Done computing similarity matrix.\n",
            "Computing the cosine similarity matrix...\n",
            "Done computing similarity matrix.\n",
            "Computing the cosine similarity matrix...\n",
            "Done computing similarity matrix.\n",
            "Computing the cosine similarity matrix...\n",
            "Done computing similarity matrix.\n",
            "Computing the cosine similarity matrix...\n",
            "Done computing similarity matrix.\n",
            "Computing the cosine similarity matrix...\n",
            "Done computing similarity matrix.\n",
            "Computing the cosine similarity matrix...\n",
            "Done computing similarity matrix.\n",
            "Computing the cosine similarity matrix...\n",
            "Done computing similarity matrix.\n",
            "Estimating biases using als...\n",
            "Computing the pearson_baseline similarity matrix...\n",
            "Done computing similarity matrix.\n",
            "Estimating biases using als...\n",
            "Computing the pearson_baseline similarity matrix...\n",
            "Done computing similarity matrix.\n",
            "Estimating biases using als...\n",
            "Computing the pearson_baseline similarity matrix...\n",
            "Done computing similarity matrix.\n",
            "Estimating biases using als...\n",
            "Computing the pearson_baseline similarity matrix...\n",
            "Done computing similarity matrix.\n",
            "Estimating biases using als...\n",
            "Computing the pearson_baseline similarity matrix...\n",
            "Done computing similarity matrix.\n",
            "Estimating biases using als...\n",
            "Computing the pearson_baseline similarity matrix...\n",
            "Done computing similarity matrix.\n",
            "Estimating biases using als...\n",
            "Computing the pearson_baseline similarity matrix...\n",
            "Done computing similarity matrix.\n",
            "Estimating biases using als...\n",
            "Computing the pearson_baseline similarity matrix...\n",
            "Done computing similarity matrix.\n",
            "Computing the cosine similarity matrix...\n",
            "Done computing similarity matrix.\n",
            "Computing the cosine similarity matrix...\n",
            "Done computing similarity matrix.\n",
            "Computing the cosine similarity matrix...\n",
            "Done computing similarity matrix.\n",
            "Computing the cosine similarity matrix...\n",
            "Done computing similarity matrix.\n",
            "Computing the cosine similarity matrix...\n",
            "Done computing similarity matrix.\n",
            "Computing the cosine similarity matrix...\n",
            "Done computing similarity matrix.\n",
            "Computing the cosine similarity matrix...\n",
            "Done computing similarity matrix.\n",
            "Computing the cosine similarity matrix...\n",
            "Done computing similarity matrix.\n",
            "Estimating biases using als...\n",
            "Computing the pearson_baseline similarity matrix...\n",
            "Done computing similarity matrix.\n",
            "Estimating biases using als...\n",
            "Computing the pearson_baseline similarity matrix...\n",
            "Done computing similarity matrix.\n",
            "Estimating biases using als...\n",
            "Computing the pearson_baseline similarity matrix...\n",
            "Done computing similarity matrix.\n",
            "Estimating biases using als...\n",
            "Computing the pearson_baseline similarity matrix...\n",
            "Done computing similarity matrix.\n",
            "Estimating biases using als...\n",
            "Computing the pearson_baseline similarity matrix...\n",
            "Done computing similarity matrix.\n",
            "Estimating biases using als...\n",
            "Computing the pearson_baseline similarity matrix...\n",
            "Done computing similarity matrix.\n",
            "Estimating biases using als...\n",
            "Computing the pearson_baseline similarity matrix...\n",
            "Done computing similarity matrix.\n",
            "Estimating biases using als...\n",
            "Computing the pearson_baseline similarity matrix...\n",
            "Done computing similarity matrix.\n",
            "Computing the cosine similarity matrix...\n",
            "Done computing similarity matrix.\n",
            "Computing the cosine similarity matrix...\n",
            "Done computing similarity matrix.\n",
            "Computing the cosine similarity matrix...\n",
            "Done computing similarity matrix.\n",
            "Computing the cosine similarity matrix...\n",
            "Done computing similarity matrix.\n",
            "Computing the cosine similarity matrix...\n",
            "Done computing similarity matrix.\n",
            "Computing the cosine similarity matrix...\n",
            "Done computing similarity matrix.\n",
            "Computing the cosine similarity matrix...\n",
            "Done computing similarity matrix.\n",
            "Computing the cosine similarity matrix...\n",
            "Done computing similarity matrix.\n",
            "Estimating biases using als...\n",
            "Computing the pearson_baseline similarity matrix...\n",
            "Done computing similarity matrix.\n",
            "Estimating biases using als...\n",
            "Computing the pearson_baseline similarity matrix...\n",
            "Done computing similarity matrix.\n",
            "Estimating biases using als...\n",
            "Computing the pearson_baseline similarity matrix...\n",
            "Done computing similarity matrix.\n",
            "Estimating biases using als...\n",
            "Computing the pearson_baseline similarity matrix...\n",
            "Done computing similarity matrix.\n",
            "Estimating biases using als...\n",
            "Computing the pearson_baseline similarity matrix...\n",
            "Done computing similarity matrix.\n",
            "Estimating biases using als...\n",
            "Computing the pearson_baseline similarity matrix...\n",
            "Done computing similarity matrix.\n",
            "Estimating biases using als...\n",
            "Computing the pearson_baseline similarity matrix...\n",
            "Done computing similarity matrix.\n",
            "Estimating biases using als...\n",
            "Computing the pearson_baseline similarity matrix...\n",
            "Done computing similarity matrix.\n",
            "Computing the cosine similarity matrix...\n",
            "Done computing similarity matrix.\n",
            "Computing the cosine similarity matrix...\n",
            "Done computing similarity matrix.\n",
            "Computing the cosine similarity matrix...\n",
            "Done computing similarity matrix.\n",
            "Computing the cosine similarity matrix...\n",
            "Done computing similarity matrix.\n",
            "Computing the cosine similarity matrix...\n",
            "Done computing similarity matrix.\n",
            "Computing the cosine similarity matrix...\n",
            "Done computing similarity matrix.\n",
            "Computing the cosine similarity matrix...\n",
            "Done computing similarity matrix.\n",
            "Computing the cosine similarity matrix...\n",
            "Done computing similarity matrix.\n",
            "0.9251290211932715\n",
            "{'k': 25, 'sim_options': {'name': 'pearson_baseline', 'user_based': False}}\n"
          ],
          "name": "stdout"
        }
      ]
    },
    {
      "cell_type": "code",
      "metadata": {
        "colab": {
          "base_uri": "https://localhost:8080/",
          "height": 386
        },
        "id": "oxn9cAxg_J2i",
        "outputId": "5551e411-c242-4a85-9bcc-63057ccda1a9"
      },
      "source": [
        "# SVD 다양한 파라메터 비교\n",
        "from surprise.model_selection import GridSearchCV\n",
        "param_grid = {'n_epochs': [70, 80, 90],\n",
        "              'lr_all': [0.005, 0.006, 0.007],\n",
        "              'reg_all': [0.05, 0.07, 0.1]}\n",
        "gs = GridSearchCV(SVD, param_grid, measures=['rmse'], cv=5,n_)\n",
        "gs.fit(data) # 너무 오래걸려여,,,\n",
        "\n",
        "# 최적 RMSE 출력\n",
        "print(gs.best_score['rmse'])\n",
        "\n",
        "# 최적 RMSE의 parameter\n",
        "print(gs.best_params['rmse'])"
      ],
      "execution_count": null,
      "outputs": [
        {
          "output_type": "error",
          "ename": "KeyboardInterrupt",
          "evalue": "ignored",
          "traceback": [
            "\u001b[0;31m---------------------------------------------------------------------------\u001b[0m",
            "\u001b[0;31mKeyboardInterrupt\u001b[0m                         Traceback (most recent call last)",
            "\u001b[0;32m<ipython-input-71-a40871eb4975>\u001b[0m in \u001b[0;36m<module>\u001b[0;34m()\u001b[0m\n\u001b[1;32m      5\u001b[0m               'reg_all': [0.05, 0.07, 0.1]}\n\u001b[1;32m      6\u001b[0m \u001b[0mgs\u001b[0m \u001b[0;34m=\u001b[0m \u001b[0mGridSearchCV\u001b[0m\u001b[0;34m(\u001b[0m\u001b[0mSVD\u001b[0m\u001b[0;34m,\u001b[0m \u001b[0mparam_grid\u001b[0m\u001b[0;34m,\u001b[0m \u001b[0mmeasures\u001b[0m\u001b[0;34m=\u001b[0m\u001b[0;34m[\u001b[0m\u001b[0;34m'rmse'\u001b[0m\u001b[0;34m]\u001b[0m\u001b[0;34m,\u001b[0m \u001b[0mcv\u001b[0m\u001b[0;34m=\u001b[0m\u001b[0;36m4\u001b[0m\u001b[0;34m)\u001b[0m\u001b[0;34m\u001b[0m\u001b[0;34m\u001b[0m\u001b[0m\n\u001b[0;32m----> 7\u001b[0;31m \u001b[0mgs\u001b[0m\u001b[0;34m.\u001b[0m\u001b[0mfit\u001b[0m\u001b[0;34m(\u001b[0m\u001b[0mdata\u001b[0m\u001b[0;34m)\u001b[0m\u001b[0;34m\u001b[0m\u001b[0;34m\u001b[0m\u001b[0m\n\u001b[0m\u001b[1;32m      8\u001b[0m \u001b[0;34m\u001b[0m\u001b[0m\n\u001b[1;32m      9\u001b[0m \u001b[0;31m# 최적 RMSE 출력\u001b[0m\u001b[0;34m\u001b[0m\u001b[0;34m\u001b[0m\u001b[0;34m\u001b[0m\u001b[0m\n",
            "\u001b[0;32m/usr/local/lib/python3.7/dist-packages/surprise/model_selection/search.py\u001b[0m in \u001b[0;36mfit\u001b[0;34m(self, data)\u001b[0m\n\u001b[1;32m     88\u001b[0m         out = Parallel(n_jobs=self.n_jobs,\n\u001b[1;32m     89\u001b[0m                        \u001b[0mpre_dispatch\u001b[0m\u001b[0;34m=\u001b[0m\u001b[0mself\u001b[0m\u001b[0;34m.\u001b[0m\u001b[0mpre_dispatch\u001b[0m\u001b[0;34m,\u001b[0m\u001b[0;34m\u001b[0m\u001b[0;34m\u001b[0m\u001b[0m\n\u001b[0;32m---> 90\u001b[0;31m                        verbose=self.joblib_verbose)(delayed_list)\n\u001b[0m\u001b[1;32m     91\u001b[0m \u001b[0;34m\u001b[0m\u001b[0m\n\u001b[1;32m     92\u001b[0m         (test_measures_dicts,\n",
            "\u001b[0;32m/usr/local/lib/python3.7/dist-packages/joblib/parallel.py\u001b[0m in \u001b[0;36m__call__\u001b[0;34m(self, iterable)\u001b[0m\n\u001b[1;32m   1042\u001b[0m                 \u001b[0mself\u001b[0m\u001b[0;34m.\u001b[0m\u001b[0m_iterating\u001b[0m \u001b[0;34m=\u001b[0m \u001b[0mself\u001b[0m\u001b[0;34m.\u001b[0m\u001b[0m_original_iterator\u001b[0m \u001b[0;32mis\u001b[0m \u001b[0;32mnot\u001b[0m \u001b[0;32mNone\u001b[0m\u001b[0;34m\u001b[0m\u001b[0;34m\u001b[0m\u001b[0m\n\u001b[1;32m   1043\u001b[0m \u001b[0;34m\u001b[0m\u001b[0m\n\u001b[0;32m-> 1044\u001b[0;31m             \u001b[0;32mwhile\u001b[0m \u001b[0mself\u001b[0m\u001b[0;34m.\u001b[0m\u001b[0mdispatch_one_batch\u001b[0m\u001b[0;34m(\u001b[0m\u001b[0miterator\u001b[0m\u001b[0;34m)\u001b[0m\u001b[0;34m:\u001b[0m\u001b[0;34m\u001b[0m\u001b[0;34m\u001b[0m\u001b[0m\n\u001b[0m\u001b[1;32m   1045\u001b[0m                 \u001b[0;32mpass\u001b[0m\u001b[0;34m\u001b[0m\u001b[0;34m\u001b[0m\u001b[0m\n\u001b[1;32m   1046\u001b[0m \u001b[0;34m\u001b[0m\u001b[0m\n",
            "\u001b[0;32m/usr/local/lib/python3.7/dist-packages/joblib/parallel.py\u001b[0m in \u001b[0;36mdispatch_one_batch\u001b[0;34m(self, iterator)\u001b[0m\n\u001b[1;32m    857\u001b[0m                 \u001b[0;32mreturn\u001b[0m \u001b[0;32mFalse\u001b[0m\u001b[0;34m\u001b[0m\u001b[0;34m\u001b[0m\u001b[0m\n\u001b[1;32m    858\u001b[0m             \u001b[0;32melse\u001b[0m\u001b[0;34m:\u001b[0m\u001b[0;34m\u001b[0m\u001b[0;34m\u001b[0m\u001b[0m\n\u001b[0;32m--> 859\u001b[0;31m                 \u001b[0mself\u001b[0m\u001b[0;34m.\u001b[0m\u001b[0m_dispatch\u001b[0m\u001b[0;34m(\u001b[0m\u001b[0mtasks\u001b[0m\u001b[0;34m)\u001b[0m\u001b[0;34m\u001b[0m\u001b[0;34m\u001b[0m\u001b[0m\n\u001b[0m\u001b[1;32m    860\u001b[0m                 \u001b[0;32mreturn\u001b[0m \u001b[0;32mTrue\u001b[0m\u001b[0;34m\u001b[0m\u001b[0;34m\u001b[0m\u001b[0m\n\u001b[1;32m    861\u001b[0m \u001b[0;34m\u001b[0m\u001b[0m\n",
            "\u001b[0;32m/usr/local/lib/python3.7/dist-packages/joblib/parallel.py\u001b[0m in \u001b[0;36m_dispatch\u001b[0;34m(self, batch)\u001b[0m\n\u001b[1;32m    775\u001b[0m         \u001b[0;32mwith\u001b[0m \u001b[0mself\u001b[0m\u001b[0;34m.\u001b[0m\u001b[0m_lock\u001b[0m\u001b[0;34m:\u001b[0m\u001b[0;34m\u001b[0m\u001b[0;34m\u001b[0m\u001b[0m\n\u001b[1;32m    776\u001b[0m             \u001b[0mjob_idx\u001b[0m \u001b[0;34m=\u001b[0m \u001b[0mlen\u001b[0m\u001b[0;34m(\u001b[0m\u001b[0mself\u001b[0m\u001b[0;34m.\u001b[0m\u001b[0m_jobs\u001b[0m\u001b[0;34m)\u001b[0m\u001b[0;34m\u001b[0m\u001b[0;34m\u001b[0m\u001b[0m\n\u001b[0;32m--> 777\u001b[0;31m             \u001b[0mjob\u001b[0m \u001b[0;34m=\u001b[0m \u001b[0mself\u001b[0m\u001b[0;34m.\u001b[0m\u001b[0m_backend\u001b[0m\u001b[0;34m.\u001b[0m\u001b[0mapply_async\u001b[0m\u001b[0;34m(\u001b[0m\u001b[0mbatch\u001b[0m\u001b[0;34m,\u001b[0m \u001b[0mcallback\u001b[0m\u001b[0;34m=\u001b[0m\u001b[0mcb\u001b[0m\u001b[0;34m)\u001b[0m\u001b[0;34m\u001b[0m\u001b[0;34m\u001b[0m\u001b[0m\n\u001b[0m\u001b[1;32m    778\u001b[0m             \u001b[0;31m# A job can complete so quickly than its callback is\u001b[0m\u001b[0;34m\u001b[0m\u001b[0;34m\u001b[0m\u001b[0;34m\u001b[0m\u001b[0m\n\u001b[1;32m    779\u001b[0m             \u001b[0;31m# called before we get here, causing self._jobs to\u001b[0m\u001b[0;34m\u001b[0m\u001b[0;34m\u001b[0m\u001b[0;34m\u001b[0m\u001b[0m\n",
            "\u001b[0;32m/usr/local/lib/python3.7/dist-packages/joblib/_parallel_backends.py\u001b[0m in \u001b[0;36mapply_async\u001b[0;34m(self, func, callback)\u001b[0m\n\u001b[1;32m    206\u001b[0m     \u001b[0;32mdef\u001b[0m \u001b[0mapply_async\u001b[0m\u001b[0;34m(\u001b[0m\u001b[0mself\u001b[0m\u001b[0;34m,\u001b[0m \u001b[0mfunc\u001b[0m\u001b[0;34m,\u001b[0m \u001b[0mcallback\u001b[0m\u001b[0;34m=\u001b[0m\u001b[0;32mNone\u001b[0m\u001b[0;34m)\u001b[0m\u001b[0;34m:\u001b[0m\u001b[0;34m\u001b[0m\u001b[0;34m\u001b[0m\u001b[0m\n\u001b[1;32m    207\u001b[0m         \u001b[0;34m\"\"\"Schedule a func to be run\"\"\"\u001b[0m\u001b[0;34m\u001b[0m\u001b[0;34m\u001b[0m\u001b[0m\n\u001b[0;32m--> 208\u001b[0;31m         \u001b[0mresult\u001b[0m \u001b[0;34m=\u001b[0m \u001b[0mImmediateResult\u001b[0m\u001b[0;34m(\u001b[0m\u001b[0mfunc\u001b[0m\u001b[0;34m)\u001b[0m\u001b[0;34m\u001b[0m\u001b[0;34m\u001b[0m\u001b[0m\n\u001b[0m\u001b[1;32m    209\u001b[0m         \u001b[0;32mif\u001b[0m \u001b[0mcallback\u001b[0m\u001b[0;34m:\u001b[0m\u001b[0;34m\u001b[0m\u001b[0;34m\u001b[0m\u001b[0m\n\u001b[1;32m    210\u001b[0m             \u001b[0mcallback\u001b[0m\u001b[0;34m(\u001b[0m\u001b[0mresult\u001b[0m\u001b[0;34m)\u001b[0m\u001b[0;34m\u001b[0m\u001b[0;34m\u001b[0m\u001b[0m\n",
            "\u001b[0;32m/usr/local/lib/python3.7/dist-packages/joblib/_parallel_backends.py\u001b[0m in \u001b[0;36m__init__\u001b[0;34m(self, batch)\u001b[0m\n\u001b[1;32m    570\u001b[0m         \u001b[0;31m# Don't delay the application, to avoid keeping the input\u001b[0m\u001b[0;34m\u001b[0m\u001b[0;34m\u001b[0m\u001b[0;34m\u001b[0m\u001b[0m\n\u001b[1;32m    571\u001b[0m         \u001b[0;31m# arguments in memory\u001b[0m\u001b[0;34m\u001b[0m\u001b[0;34m\u001b[0m\u001b[0;34m\u001b[0m\u001b[0m\n\u001b[0;32m--> 572\u001b[0;31m         \u001b[0mself\u001b[0m\u001b[0;34m.\u001b[0m\u001b[0mresults\u001b[0m \u001b[0;34m=\u001b[0m \u001b[0mbatch\u001b[0m\u001b[0;34m(\u001b[0m\u001b[0;34m)\u001b[0m\u001b[0;34m\u001b[0m\u001b[0;34m\u001b[0m\u001b[0m\n\u001b[0m\u001b[1;32m    573\u001b[0m \u001b[0;34m\u001b[0m\u001b[0m\n\u001b[1;32m    574\u001b[0m     \u001b[0;32mdef\u001b[0m \u001b[0mget\u001b[0m\u001b[0;34m(\u001b[0m\u001b[0mself\u001b[0m\u001b[0;34m)\u001b[0m\u001b[0;34m:\u001b[0m\u001b[0;34m\u001b[0m\u001b[0;34m\u001b[0m\u001b[0m\n",
            "\u001b[0;32m/usr/local/lib/python3.7/dist-packages/joblib/parallel.py\u001b[0m in \u001b[0;36m__call__\u001b[0;34m(self)\u001b[0m\n\u001b[1;32m    261\u001b[0m         \u001b[0;32mwith\u001b[0m \u001b[0mparallel_backend\u001b[0m\u001b[0;34m(\u001b[0m\u001b[0mself\u001b[0m\u001b[0;34m.\u001b[0m\u001b[0m_backend\u001b[0m\u001b[0;34m,\u001b[0m \u001b[0mn_jobs\u001b[0m\u001b[0;34m=\u001b[0m\u001b[0mself\u001b[0m\u001b[0;34m.\u001b[0m\u001b[0m_n_jobs\u001b[0m\u001b[0;34m)\u001b[0m\u001b[0;34m:\u001b[0m\u001b[0;34m\u001b[0m\u001b[0;34m\u001b[0m\u001b[0m\n\u001b[1;32m    262\u001b[0m             return [func(*args, **kwargs)\n\u001b[0;32m--> 263\u001b[0;31m                     for func, args, kwargs in self.items]\n\u001b[0m\u001b[1;32m    264\u001b[0m \u001b[0;34m\u001b[0m\u001b[0m\n\u001b[1;32m    265\u001b[0m     \u001b[0;32mdef\u001b[0m \u001b[0m__reduce__\u001b[0m\u001b[0;34m(\u001b[0m\u001b[0mself\u001b[0m\u001b[0;34m)\u001b[0m\u001b[0;34m:\u001b[0m\u001b[0;34m\u001b[0m\u001b[0;34m\u001b[0m\u001b[0m\n",
            "\u001b[0;32m/usr/local/lib/python3.7/dist-packages/joblib/parallel.py\u001b[0m in \u001b[0;36m<listcomp>\u001b[0;34m(.0)\u001b[0m\n\u001b[1;32m    261\u001b[0m         \u001b[0;32mwith\u001b[0m \u001b[0mparallel_backend\u001b[0m\u001b[0;34m(\u001b[0m\u001b[0mself\u001b[0m\u001b[0;34m.\u001b[0m\u001b[0m_backend\u001b[0m\u001b[0;34m,\u001b[0m \u001b[0mn_jobs\u001b[0m\u001b[0;34m=\u001b[0m\u001b[0mself\u001b[0m\u001b[0;34m.\u001b[0m\u001b[0m_n_jobs\u001b[0m\u001b[0;34m)\u001b[0m\u001b[0;34m:\u001b[0m\u001b[0;34m\u001b[0m\u001b[0;34m\u001b[0m\u001b[0m\n\u001b[1;32m    262\u001b[0m             return [func(*args, **kwargs)\n\u001b[0;32m--> 263\u001b[0;31m                     for func, args, kwargs in self.items]\n\u001b[0m\u001b[1;32m    264\u001b[0m \u001b[0;34m\u001b[0m\u001b[0m\n\u001b[1;32m    265\u001b[0m     \u001b[0;32mdef\u001b[0m \u001b[0m__reduce__\u001b[0m\u001b[0;34m(\u001b[0m\u001b[0mself\u001b[0m\u001b[0;34m)\u001b[0m\u001b[0;34m:\u001b[0m\u001b[0;34m\u001b[0m\u001b[0;34m\u001b[0m\u001b[0m\n",
            "\u001b[0;32m/usr/local/lib/python3.7/dist-packages/surprise/model_selection/validation.py\u001b[0m in \u001b[0;36mfit_and_score\u001b[0;34m(algo, trainset, testset, measures, return_train_measures)\u001b[0m\n\u001b[1;32m    164\u001b[0m \u001b[0;34m\u001b[0m\u001b[0m\n\u001b[1;32m    165\u001b[0m     \u001b[0mstart_fit\u001b[0m \u001b[0;34m=\u001b[0m \u001b[0mtime\u001b[0m\u001b[0;34m.\u001b[0m\u001b[0mtime\u001b[0m\u001b[0;34m(\u001b[0m\u001b[0;34m)\u001b[0m\u001b[0;34m\u001b[0m\u001b[0;34m\u001b[0m\u001b[0m\n\u001b[0;32m--> 166\u001b[0;31m     \u001b[0malgo\u001b[0m\u001b[0;34m.\u001b[0m\u001b[0mfit\u001b[0m\u001b[0;34m(\u001b[0m\u001b[0mtrainset\u001b[0m\u001b[0;34m)\u001b[0m\u001b[0;34m\u001b[0m\u001b[0;34m\u001b[0m\u001b[0m\n\u001b[0m\u001b[1;32m    167\u001b[0m     \u001b[0mfit_time\u001b[0m \u001b[0;34m=\u001b[0m \u001b[0mtime\u001b[0m\u001b[0;34m.\u001b[0m\u001b[0mtime\u001b[0m\u001b[0;34m(\u001b[0m\u001b[0;34m)\u001b[0m \u001b[0;34m-\u001b[0m \u001b[0mstart_fit\u001b[0m\u001b[0;34m\u001b[0m\u001b[0;34m\u001b[0m\u001b[0m\n\u001b[1;32m    168\u001b[0m     \u001b[0mstart_test\u001b[0m \u001b[0;34m=\u001b[0m \u001b[0mtime\u001b[0m\u001b[0;34m.\u001b[0m\u001b[0mtime\u001b[0m\u001b[0;34m(\u001b[0m\u001b[0;34m)\u001b[0m\u001b[0;34m\u001b[0m\u001b[0;34m\u001b[0m\u001b[0m\n",
            "\u001b[0;32m/usr/local/lib/python3.7/dist-packages/surprise/prediction_algorithms/matrix_factorization.pyx\u001b[0m in \u001b[0;36msurprise.prediction_algorithms.matrix_factorization.SVD.fit\u001b[0;34m()\u001b[0m\n",
            "\u001b[0;32m/usr/local/lib/python3.7/dist-packages/surprise/prediction_algorithms/matrix_factorization.pyx\u001b[0m in \u001b[0;36msurprise.prediction_algorithms.matrix_factorization.SVD.sgd\u001b[0;34m()\u001b[0m\n",
            "\u001b[0;32m/usr/local/lib/python3.7/dist-packages/surprise/trainset.py\u001b[0m in \u001b[0;36mall_ratings\u001b[0;34m(self)\u001b[0m\n\u001b[1;32m    186\u001b[0m \u001b[0;34m\u001b[0m\u001b[0m\n\u001b[1;32m    187\u001b[0m         \u001b[0;32mfor\u001b[0m \u001b[0mu\u001b[0m\u001b[0;34m,\u001b[0m \u001b[0mu_ratings\u001b[0m \u001b[0;32min\u001b[0m \u001b[0miteritems\u001b[0m\u001b[0;34m(\u001b[0m\u001b[0mself\u001b[0m\u001b[0;34m.\u001b[0m\u001b[0mur\u001b[0m\u001b[0;34m)\u001b[0m\u001b[0;34m:\u001b[0m\u001b[0;34m\u001b[0m\u001b[0;34m\u001b[0m\u001b[0m\n\u001b[0;32m--> 188\u001b[0;31m             \u001b[0;32mfor\u001b[0m \u001b[0mi\u001b[0m\u001b[0;34m,\u001b[0m \u001b[0mr\u001b[0m \u001b[0;32min\u001b[0m \u001b[0mu_ratings\u001b[0m\u001b[0;34m:\u001b[0m\u001b[0;34m\u001b[0m\u001b[0;34m\u001b[0m\u001b[0m\n\u001b[0m\u001b[1;32m    189\u001b[0m                 \u001b[0;32myield\u001b[0m \u001b[0mu\u001b[0m\u001b[0;34m,\u001b[0m \u001b[0mi\u001b[0m\u001b[0;34m,\u001b[0m \u001b[0mr\u001b[0m\u001b[0;34m\u001b[0m\u001b[0;34m\u001b[0m\u001b[0m\n\u001b[1;32m    190\u001b[0m \u001b[0;34m\u001b[0m\u001b[0m\n",
            "\u001b[0;31mKeyboardInterrupt\u001b[0m: "
          ]
        }
      ]
    },
    {
      "cell_type": "code",
      "metadata": {
        "id": "VIw1aE_H1wHx",
        "colab": {
          "base_uri": "https://localhost:8080/",
          "height": 310
        },
        "outputId": "dbf58753-56fd-4346-8f18-6a7075eb2a39"
      },
      "source": [
        "from surprise.model_selection import GridSearchCV"
      ],
      "execution_count": null,
      "outputs": [
        {
          "output_type": "error",
          "ename": "ModuleNotFoundError",
          "evalue": "ignored",
          "traceback": [
            "\u001b[0;31m---------------------------------------------------------------------------\u001b[0m",
            "\u001b[0;31mModuleNotFoundError\u001b[0m                       Traceback (most recent call last)",
            "\u001b[0;32m<ipython-input-1-16fd807309be>\u001b[0m in \u001b[0;36m<module>\u001b[0;34m()\u001b[0m\n\u001b[0;32m----> 1\u001b[0;31m \u001b[0;32mfrom\u001b[0m \u001b[0msurprise\u001b[0m\u001b[0;34m.\u001b[0m\u001b[0mmodel_selection\u001b[0m \u001b[0;32mimport\u001b[0m \u001b[0mGridSearchCV\u001b[0m\u001b[0;34m\u001b[0m\u001b[0;34m\u001b[0m\u001b[0m\n\u001b[0m",
            "\u001b[0;31mModuleNotFoundError\u001b[0m: No module named 'surprise'",
            "",
            "\u001b[0;31m---------------------------------------------------------------------------\u001b[0;32m\nNOTE: If your import is failing due to a missing package, you can\nmanually install dependencies using either !pip or !apt.\n\nTo view examples of installing some common dependencies, click the\n\"Open Examples\" button below.\n\u001b[0;31m---------------------------------------------------------------------------\u001b[0m\n"
          ]
        }
      ]
    },
    {
      "cell_type": "code",
      "metadata": {
        "colab": {
          "base_uri": "https://localhost:8080/"
        },
        "id": "JNNlatgi_J6M",
        "outputId": "37927ef5-dcd4-48e6-b575-456578b47e69"
      },
      "source": [
        "# 외부 데이터 불러오기\n",
        "r_cols = ['user_id', 'movie_id', 'rating', 'timestamp']\n",
        "ratings = pd.read_csv('/u.data', names=r_cols,  sep='\\t',encoding='latin-1')\n",
        "reader = Reader(rating_scale=(1,5))\n",
        "data = Dataset.load_from_df(ratings[['user_id', 'movie_id', # Surprise의 Dataset 클래스로 읽어오면 된다.\n",
        "        'rating']], reader)\n",
        "\n",
        "# Train/Test 분리 \n",
        "trainset, testset = train_test_split(data, test_size=0.25)\n",
        "\n",
        "# 정확도 계산 \n",
        "algo = KNNWithMeans()\n",
        "algo.fit(trainset)\n",
        "predictions = algo.test(testset)\n",
        "accuracy.rmse(predictions)"
      ],
      "execution_count": null,
      "outputs": [
        {
          "output_type": "stream",
          "text": [
            "Computing the msd similarity matrix...\n",
            "Done computing similarity matrix.\n",
            "RMSE: 0.9541\n"
          ],
          "name": "stdout"
        },
        {
          "output_type": "execute_result",
          "data": {
            "text/plain": [
              "0.954081617487824"
            ]
          },
          "metadata": {
            "tags": []
          },
          "execution_count": 73
        }
      ]
    },
    {
      "cell_type": "markdown",
      "metadata": {
        "id": "qGNQs0QIEqJJ"
      },
      "source": [
        "### 제 6장 딥러닝을 사용한 추천 시스템\n",
        "\n",
        "딥러닝: 다수의 은닉층을 가진 인공신경망을 적용하는 기법"
      ]
    },
    {
      "cell_type": "markdown",
      "metadata": {
        "id": "1s2iSiTENUrF"
      },
      "source": [
        "#### Keras로 MF 구현하기"
      ]
    },
    {
      "cell_type": "code",
      "metadata": {
        "id": "JG0-ksouLr0x"
      },
      "source": [
        "import tensorflow as tf\n",
        "from tensorflow.keras import layers\n",
        "from tensorflow.keras.models import Model\n",
        "from tensorflow.keras.layers import Input, Embedding, Dot, Add, Flatten\n",
        "from tensorflow.keras.regularizers import l2\n",
        "from tensorflow.keras.optimizers import SGD, Adamax"
      ],
      "execution_count": null,
      "outputs": []
    },
    {
      "cell_type": "code",
      "metadata": {
        "id": "1KfoNFrGLr4X"
      },
      "source": [
        "# Variable 초기화 \n",
        "K = 200                             # Latent factor 수 \n",
        "mu = ratings_train.rating.mean()    # 전체 평균 \n",
        "M = ratings.user_id.max() + 1       # Number of users\n",
        "N = ratings.movie_id.max() + 1      # Number of movies"
      ],
      "execution_count": null,
      "outputs": []
    },
    {
      "cell_type": "code",
      "metadata": {
        "id": "SuID9xh_L7VJ"
      },
      "source": [
        "# Defining RMSE measure\n",
        "def RMSE(y_true, y_pred):\n",
        "    return tf.sqrt(tf.reduce_mean(tf.square(y_true - y_pred)))"
      ],
      "execution_count": null,
      "outputs": []
    },
    {
      "cell_type": "code",
      "metadata": {
        "id": "sw9xqbX8MF4Z"
      },
      "source": [
        "# Keras model\n",
        "user = Input(shape=(1, ))                                               # User input\n",
        "item = Input(shape=(1, ))                                               # Item input\n",
        "P_embedding = Embedding(M, K, embeddings_regularizer=l2())(user)        # (M, 1, K)\n",
        "Q_embedding = Embedding(N, K, embeddings_regularizer=l2())(item)        # (N, 1, K)\n",
        "user_bias = Embedding(M, 1, embeddings_regularizer=l2())(user)          # User bias term (M, 1, )\n",
        "item_bias = Embedding(N, 1, embeddings_regularizer=l2())(item)          # Item bias term (N, 1, )"
      ],
      "execution_count": null,
      "outputs": []
    },
    {
      "cell_type": "code",
      "metadata": {
        "id": "v1qgLBJUMJUz"
      },
      "source": [
        "R = layers.dot([P_embedding, Q_embedding], axes=2)              \n",
        "R = layers.add([R, user_bias, item_bias])\n",
        "R = Flatten()(R) # 1차원의 배열로 변경."
      ],
      "execution_count": null,
      "outputs": []
    },
    {
      "cell_type": "code",
      "metadata": {
        "colab": {
          "base_uri": "https://localhost:8080/"
        },
        "id": "7I4LXMEMMJYo",
        "outputId": "4e667476-2b78-4b76-a6c8-21c5a5b21aa6"
      },
      "source": [
        "# Model setting\n",
        "model = Model(inputs=[user, item], outputs=R)\n",
        "model.compile(\n",
        "  loss=RMSE,\n",
        "  optimizer=SGD(),\n",
        "  #optimizer=Adamax(),\n",
        "  metrics=[RMSE]\n",
        ")\n",
        "model.summary()"
      ],
      "execution_count": null,
      "outputs": [
        {
          "output_type": "stream",
          "text": [
            "Model: \"model\"\n",
            "__________________________________________________________________________________________________\n",
            "Layer (type)                    Output Shape         Param #     Connected to                     \n",
            "==================================================================================================\n",
            "input_1 (InputLayer)            [(None, 1)]          0                                            \n",
            "__________________________________________________________________________________________________\n",
            "input_2 (InputLayer)            [(None, 1)]          0                                            \n",
            "__________________________________________________________________________________________________\n",
            "embedding (Embedding)           (None, 1, 200)       188800      input_1[0][0]                    \n",
            "__________________________________________________________________________________________________\n",
            "embedding_1 (Embedding)         (None, 1, 200)       336600      input_2[0][0]                    \n",
            "__________________________________________________________________________________________________\n",
            "dot (Dot)                       (None, 1, 1)         0           embedding[0][0]                  \n",
            "                                                                 embedding_1[0][0]                \n",
            "__________________________________________________________________________________________________\n",
            "embedding_2 (Embedding)         (None, 1, 1)         944         input_1[0][0]                    \n",
            "__________________________________________________________________________________________________\n",
            "embedding_3 (Embedding)         (None, 1, 1)         1683        input_2[0][0]                    \n",
            "__________________________________________________________________________________________________\n",
            "add (Add)                       (None, 1, 1)         0           dot[0][0]                        \n",
            "                                                                 embedding_2[0][0]                \n",
            "                                                                 embedding_3[0][0]                \n",
            "__________________________________________________________________________________________________\n",
            "flatten (Flatten)               (None, 1)            0           add[0][0]                        \n",
            "==================================================================================================\n",
            "Total params: 528,027\n",
            "Trainable params: 528,027\n",
            "Non-trainable params: 0\n",
            "__________________________________________________________________________________________________\n"
          ],
          "name": "stdout"
        }
      ]
    },
    {
      "cell_type": "code",
      "metadata": {
        "colab": {
          "base_uri": "https://localhost:8080/"
        },
        "id": "Dy1ldWNO_J8N",
        "outputId": "3e71e938-a773-44ee-fbcd-a78f1a0f4d95"
      },
      "source": [
        "# Model fitting\n",
        "result = model.fit(\n",
        "  x=[ratings_train.user_id.values, ratings_train.movie_id.values],\n",
        "  y=ratings_train.rating.values - mu,\n",
        "  epochs=60,\n",
        "  batch_size=256,\n",
        "  validation_data=(\n",
        "    [ratings_test.user_id.values, ratings_test.movie_id.values],\n",
        "    ratings_test.rating.values - mu\n",
        "  )\n",
        ")"
      ],
      "execution_count": null,
      "outputs": [
        {
          "output_type": "stream",
          "text": [
            "Epoch 1/60\n",
            "293/293 [==============================] - 4s 9ms/step - loss: 5.3943 - RMSE: 1.1230 - val_loss: 5.0346 - val_RMSE: 1.1239\n",
            "Epoch 2/60\n",
            "293/293 [==============================] - 2s 7ms/step - loss: 4.9210 - RMSE: 1.1221 - val_loss: 4.6003 - val_RMSE: 1.1221\n",
            "Epoch 3/60\n",
            "293/293 [==============================] - 2s 7ms/step - loss: 4.4962 - RMSE: 1.1174 - val_loss: 4.2141 - val_RMSE: 1.1204\n",
            "Epoch 4/60\n",
            "293/293 [==============================] - 2s 7ms/step - loss: 4.1247 - RMSE: 1.1193 - val_loss: 3.8706 - val_RMSE: 1.1188\n",
            "Epoch 5/60\n",
            "293/293 [==============================] - 2s 7ms/step - loss: 3.7931 - RMSE: 1.1198 - val_loss: 3.5652 - val_RMSE: 1.1173\n",
            "Epoch 6/60\n",
            "293/293 [==============================] - 2s 7ms/step - loss: 3.4935 - RMSE: 1.1154 - val_loss: 3.2936 - val_RMSE: 1.1159\n",
            "Epoch 7/60\n",
            "293/293 [==============================] - 2s 7ms/step - loss: 3.2276 - RMSE: 1.1121 - val_loss: 3.0520 - val_RMSE: 1.1147\n",
            "Epoch 8/60\n",
            "293/293 [==============================] - 2s 7ms/step - loss: 2.9955 - RMSE: 1.1135 - val_loss: 2.8372 - val_RMSE: 1.1135\n",
            "Epoch 9/60\n",
            "293/293 [==============================] - 2s 8ms/step - loss: 2.7860 - RMSE: 1.1115 - val_loss: 2.6461 - val_RMSE: 1.1124\n",
            "Epoch 10/60\n",
            "293/293 [==============================] - 2s 7ms/step - loss: 2.6001 - RMSE: 1.1100 - val_loss: 2.4762 - val_RMSE: 1.1114\n",
            "Epoch 11/60\n",
            "293/293 [==============================] - 2s 7ms/step - loss: 2.4374 - RMSE: 1.1114 - val_loss: 2.3252 - val_RMSE: 1.1105\n",
            "Epoch 12/60\n",
            "293/293 [==============================] - 2s 7ms/step - loss: 2.2874 - RMSE: 1.1072 - val_loss: 2.1908 - val_RMSE: 1.1096\n",
            "Epoch 13/60\n",
            "293/293 [==============================] - 2s 7ms/step - loss: 2.1573 - RMSE: 1.1068 - val_loss: 2.0713 - val_RMSE: 1.1088\n",
            "Epoch 14/60\n",
            "293/293 [==============================] - 2s 7ms/step - loss: 2.0431 - RMSE: 1.1079 - val_loss: 1.9650 - val_RMSE: 1.1080\n",
            "Epoch 15/60\n",
            "293/293 [==============================] - 2s 7ms/step - loss: 1.9367 - RMSE: 1.1041 - val_loss: 1.8705 - val_RMSE: 1.1073\n",
            "Epoch 16/60\n",
            "293/293 [==============================] - 2s 7ms/step - loss: 1.8463 - RMSE: 1.1047 - val_loss: 1.7865 - val_RMSE: 1.1066\n",
            "Epoch 17/60\n",
            "293/293 [==============================] - 2s 7ms/step - loss: 1.7680 - RMSE: 1.1074 - val_loss: 1.7117 - val_RMSE: 1.1060\n",
            "Epoch 18/60\n",
            "293/293 [==============================] - 2s 8ms/step - loss: 1.6926 - RMSE: 1.1040 - val_loss: 1.6453 - val_RMSE: 1.1055\n",
            "Epoch 19/60\n",
            "293/293 [==============================] - 2s 7ms/step - loss: 1.6321 - RMSE: 1.1076 - val_loss: 1.5862 - val_RMSE: 1.1049\n",
            "Epoch 20/60\n",
            "293/293 [==============================] - 2s 7ms/step - loss: 1.5659 - RMSE: 1.0982 - val_loss: 1.5336 - val_RMSE: 1.1044\n",
            "Epoch 21/60\n",
            "293/293 [==============================] - 2s 7ms/step - loss: 1.5202 - RMSE: 1.1031 - val_loss: 1.4869 - val_RMSE: 1.1040\n",
            "Epoch 22/60\n",
            "293/293 [==============================] - 2s 7ms/step - loss: 1.4700 - RMSE: 1.0979 - val_loss: 1.4453 - val_RMSE: 1.1035\n",
            "Epoch 23/60\n",
            "293/293 [==============================] - 2s 7ms/step - loss: 1.4343 - RMSE: 1.1021 - val_loss: 1.4083 - val_RMSE: 1.1031\n",
            "Epoch 24/60\n",
            "293/293 [==============================] - 2s 7ms/step - loss: 1.4011 - RMSE: 1.1044 - val_loss: 1.3754 - val_RMSE: 1.1028\n",
            "Epoch 25/60\n",
            "293/293 [==============================] - 2s 7ms/step - loss: 1.3669 - RMSE: 1.1018 - val_loss: 1.3462 - val_RMSE: 1.1024\n",
            "Epoch 26/60\n",
            "293/293 [==============================] - 2s 7ms/step - loss: 1.3377 - RMSE: 1.1007 - val_loss: 1.3202 - val_RMSE: 1.1021\n",
            "Epoch 27/60\n",
            "293/293 [==============================] - 2s 7ms/step - loss: 1.3121 - RMSE: 1.1000 - val_loss: 1.2971 - val_RMSE: 1.1018\n",
            "Epoch 28/60\n",
            "293/293 [==============================] - 2s 7ms/step - loss: 1.2935 - RMSE: 1.1035 - val_loss: 1.2765 - val_RMSE: 1.1015\n",
            "Epoch 29/60\n",
            "293/293 [==============================] - 2s 7ms/step - loss: 1.2686 - RMSE: 1.0983 - val_loss: 1.2582 - val_RMSE: 1.1012\n",
            "Epoch 30/60\n",
            "293/293 [==============================] - 2s 7ms/step - loss: 1.2529 - RMSE: 1.1001 - val_loss: 1.2419 - val_RMSE: 1.1010\n",
            "Epoch 31/60\n",
            "293/293 [==============================] - 2s 7ms/step - loss: 1.2380 - RMSE: 1.1008 - val_loss: 1.2275 - val_RMSE: 1.1007\n",
            "Epoch 32/60\n",
            "293/293 [==============================] - 2s 7ms/step - loss: 1.2254 - RMSE: 1.1021 - val_loss: 1.2146 - val_RMSE: 1.1005\n",
            "Epoch 33/60\n",
            "293/293 [==============================] - 2s 7ms/step - loss: 1.2063 - RMSE: 1.0952 - val_loss: 1.2032 - val_RMSE: 1.1003\n",
            "Epoch 34/60\n",
            "293/293 [==============================] - 2s 7ms/step - loss: 1.1995 - RMSE: 1.0993 - val_loss: 1.1930 - val_RMSE: 1.1001\n",
            "Epoch 35/60\n",
            "293/293 [==============================] - 2s 7ms/step - loss: 1.1898 - RMSE: 1.0993 - val_loss: 1.1840 - val_RMSE: 1.0999\n",
            "Epoch 36/60\n",
            "293/293 [==============================] - 2s 7ms/step - loss: 1.1823 - RMSE: 1.1004 - val_loss: 1.1759 - val_RMSE: 1.0998\n",
            "Epoch 37/60\n",
            "293/293 [==============================] - 2s 7ms/step - loss: 1.1716 - RMSE: 1.0974 - val_loss: 1.1688 - val_RMSE: 1.0996\n",
            "Epoch 38/60\n",
            "293/293 [==============================] - 2s 7ms/step - loss: 1.1654 - RMSE: 1.0980 - val_loss: 1.1624 - val_RMSE: 1.0995\n",
            "Epoch 39/60\n",
            "293/293 [==============================] - 2s 7ms/step - loss: 1.1565 - RMSE: 1.0951 - val_loss: 1.1567 - val_RMSE: 1.0993\n",
            "Epoch 40/60\n",
            "293/293 [==============================] - 2s 7ms/step - loss: 1.1508 - RMSE: 1.0948 - val_loss: 1.1517 - val_RMSE: 1.0992\n",
            "Epoch 41/60\n",
            "293/293 [==============================] - 2s 7ms/step - loss: 1.1526 - RMSE: 1.1013 - val_loss: 1.1472 - val_RMSE: 1.0991\n",
            "Epoch 42/60\n",
            "293/293 [==============================] - 2s 7ms/step - loss: 1.1424 - RMSE: 1.0953 - val_loss: 1.1433 - val_RMSE: 1.0990\n",
            "Epoch 43/60\n",
            "293/293 [==============================] - 2s 8ms/step - loss: 1.1422 - RMSE: 1.0989 - val_loss: 1.1397 - val_RMSE: 1.0989\n",
            "Epoch 44/60\n",
            "293/293 [==============================] - 2s 7ms/step - loss: 1.1388 - RMSE: 1.0988 - val_loss: 1.1366 - val_RMSE: 1.0988\n",
            "Epoch 45/60\n",
            "293/293 [==============================] - 2s 7ms/step - loss: 1.1327 - RMSE: 1.0957 - val_loss: 1.1338 - val_RMSE: 1.0987\n",
            "Epoch 46/60\n",
            "293/293 [==============================] - 2s 7ms/step - loss: 1.1294 - RMSE: 1.0951 - val_loss: 1.1313 - val_RMSE: 1.0986\n",
            "Epoch 47/60\n",
            "293/293 [==============================] - 2s 7ms/step - loss: 1.1252 - RMSE: 1.0932 - val_loss: 1.1291 - val_RMSE: 1.0985\n",
            "Epoch 48/60\n",
            "293/293 [==============================] - 2s 7ms/step - loss: 1.1248 - RMSE: 1.0948 - val_loss: 1.1271 - val_RMSE: 1.0984\n",
            "Epoch 49/60\n",
            "293/293 [==============================] - 2s 7ms/step - loss: 1.1263 - RMSE: 1.0981 - val_loss: 1.1254 - val_RMSE: 1.0984\n",
            "Epoch 50/60\n",
            "293/293 [==============================] - 2s 7ms/step - loss: 1.1242 - RMSE: 1.0977 - val_loss: 1.1238 - val_RMSE: 1.0983\n",
            "Epoch 51/60\n",
            "293/293 [==============================] - 2s 7ms/step - loss: 1.1166 - RMSE: 1.0915 - val_loss: 1.1224 - val_RMSE: 1.0982\n",
            "Epoch 52/60\n",
            "293/293 [==============================] - 2s 7ms/step - loss: 1.1228 - RMSE: 1.0990 - val_loss: 1.1212 - val_RMSE: 1.0982\n",
            "Epoch 53/60\n",
            "293/293 [==============================] - 2s 7ms/step - loss: 1.1189 - RMSE: 1.0963 - val_loss: 1.1201 - val_RMSE: 1.0981\n",
            "Epoch 54/60\n",
            "293/293 [==============================] - 2s 7ms/step - loss: 1.1193 - RMSE: 1.0977 - val_loss: 1.1191 - val_RMSE: 1.0981\n",
            "Epoch 55/60\n",
            "293/293 [==============================] - 2s 7ms/step - loss: 1.1182 - RMSE: 1.0975 - val_loss: 1.1183 - val_RMSE: 1.0980\n",
            "Epoch 56/60\n",
            "293/293 [==============================] - 2s 8ms/step - loss: 1.1120 - RMSE: 1.0921 - val_loss: 1.1175 - val_RMSE: 1.0980\n",
            "Epoch 57/60\n",
            "293/293 [==============================] - 2s 7ms/step - loss: 1.1179 - RMSE: 1.0987 - val_loss: 1.1168 - val_RMSE: 1.0979\n",
            "Epoch 58/60\n",
            "293/293 [==============================] - 2s 7ms/step - loss: 1.1140 - RMSE: 1.0954 - val_loss: 1.1162 - val_RMSE: 1.0979\n",
            "Epoch 59/60\n",
            "293/293 [==============================] - 2s 7ms/step - loss: 1.1135 - RMSE: 1.0955 - val_loss: 1.1157 - val_RMSE: 1.0979\n",
            "Epoch 60/60\n",
            "293/293 [==============================] - 2s 7ms/step - loss: 1.1137 - RMSE: 1.0961 - val_loss: 1.1152 - val_RMSE: 1.0978\n"
          ],
          "name": "stdout"
        }
      ]
    },
    {
      "cell_type": "code",
      "metadata": {
        "colab": {
          "base_uri": "https://localhost:8080/",
          "height": 279
        },
        "id": "GbZd2p8xNKUJ",
        "outputId": "5eca7630-0433-4bbc-eee7-bdddb402b4b7"
      },
      "source": [
        "# Plot RMSE\n",
        "import matplotlib.pyplot as plt\n",
        "plt.plot(result.history['RMSE'], label=\"Train RMSE\")\n",
        "plt.plot(result.history['val_RMSE'], label=\"Test RMSE\")\n",
        "plt.xlabel('epoch')\n",
        "plt.ylabel('RMSE')\n",
        "plt.legend()\n",
        "plt.show()"
      ],
      "execution_count": null,
      "outputs": [
        {
          "output_type": "display_data",
          "data": {
            "image/png": "[encoded data removed]",
            "text/plain": [
              "<Figure size 432x288 with 1 Axes>"
            ]
          },
          "metadata": {
            "tags": [],
            "needs_background": "light"
          }
        }
      ]
    },
    {
      "cell_type": "code",
      "metadata": {
        "colab": {
          "base_uri": "https://localhost:8080/"
        },
        "id": "x7-aoR9-NKX1",
        "outputId": "0c188c1d-4d5e-400d-9aaf-e95eec71d3f7"
      },
      "source": [
        "# Prediction\n",
        "user_ids = ratings_test.user_id.values[0:3]\n",
        "movie_ids = ratings_test.movie_id.values[0:3]\n",
        "predictions = model.predict([user_ids, movie_ids]) + mu\n",
        "print(\"Actuals: \\n\", ratings_test[0:6])\n",
        "print( )\n",
        "print(\"Predictions: \\n\", predictions)"
      ],
      "execution_count": null,
      "outputs": [
        {
          "output_type": "stream",
          "text": [
            "Actuals: \n",
            "        user_id  movie_id  rating\n",
            "53670      345       715       4\n",
            "77110       92       998       2\n",
            "69323      934       195       4\n",
            "85968      586       423       2\n",
            "30243      336       383       1\n",
            "43868      654       678       4\n",
            "\n",
            "Predictions: \n",
            " [[3.5351827]\n",
            " [3.4959416]\n",
            " [3.5932786]]\n"
          ],
          "name": "stdout"
        }
      ]
    },
    {
      "cell_type": "code",
      "metadata": {
        "colab": {
          "base_uri": "https://localhost:8080/"
        },
        "id": "Sk2-g3zLgcWZ",
        "outputId": "f4b12eee-6d0b-43bd-e2d3-427e81373b52"
      },
      "source": [
        "# RMSE check\n",
        "def RMSE2(y_true, y_pred):\n",
        "    return np.sqrt(np.mean((np.array(y_true) - np.array(y_pred))**2))\n",
        "\n",
        "user_ids = ratings_test.user_id.values\n",
        "movie_ids = ratings_test.movie_id.values\n",
        "y_pred = model.predict([user_ids, movie_ids]) + mu\n",
        "y_pred = np.ravel(y_pred, order='C') # 1차원의 array로 바꿔준다.\n",
        "y_true = np.array(ratings_test.rating)\n",
        "\n",
        "RMSE2(y_true, y_pred)"
      ],
      "execution_count": null,
      "outputs": [
        {
          "output_type": "execute_result",
          "data": {
            "text/plain": [
              "1.0987217174031805"
            ]
          },
          "metadata": {
            "tags": []
          },
          "execution_count": 97
        }
      ]
    },
    {
      "cell_type": "markdown",
      "metadata": {
        "id": "yyUdJ-lZN41b"
      },
      "source": [
        "#### 딥러닝을 적용한 추천 시스템"
      ]
    },
    {
      "cell_type": "code",
      "metadata": {
        "id": "dVmSIDhZFLCd"
      },
      "source": [
        "# Keras model\n",
        "user = Input(shape=(1, ))                                               # User input\n",
        "item = Input(shape=(1, ))                                               # Item input\n",
        "P_embedding = Embedding(M, K, embeddings_regularizer=l2())(user)        # (M, 1, K)\n",
        "Q_embedding = Embedding(N, K, embeddings_regularizer=l2())(item)        # (N, 1, K)\n",
        "user_bias = Embedding(M, 1, embeddings_regularizer=l2())(user)          # User bias term (M, 1, )\n",
        "item_bias = Embedding(N, 1, embeddings_regularizer=l2())(item)          # Item bias term (N, 1, )"
      ],
      "execution_count": null,
      "outputs": []
    },
    {
      "cell_type": "code",
      "metadata": {
        "id": "lafiHSgOP-sy"
      },
      "source": [
        "# Concatenate layers: 1차원으로 줄인다.\n",
        "from tensorflow.keras.layers import Dense, Concatenate, Activation\n",
        "P_embedding = Flatten()(P_embedding)                                    # (K, )\n",
        "Q_embedding = Flatten()(Q_embedding)                                    # (K, )\n",
        "user_bias = Flatten()(user_bias)                                        # (1, )\n",
        "item_bias = Flatten()(item_bias)                                        # (1, )\n",
        "R = Concatenate()([P_embedding, Q_embedding, user_bias, item_bias])     # (2K + 2, )"
      ],
      "execution_count": null,
      "outputs": []
    },
    {
      "cell_type": "code",
      "metadata": {
        "colab": {
          "base_uri": "https://localhost:8080/"
        },
        "id": "7rgrIWBzP-w4",
        "outputId": "2ff6a4d4-5cfb-4894-a516-5d722c366246"
      },
      "source": [
        "# Neural network\n",
        "R = Dense(2048)(R)\n",
        "R = Activation('linear')(R)\n",
        "R = Dense(256)(R)\n",
        "R = Activation('linear')(R)\n",
        "R = Dense(1)(R)\n",
        "\n",
        "model = Model(inputs=[user, item], outputs=R)\n",
        "model.compile(\n",
        "  loss=RMSE,\n",
        "  optimizer=SGD(),\n",
        "  #optimizer=Adamax(),\n",
        "  metrics=[RMSE]\n",
        ")\n",
        "model.summary()"
      ],
      "execution_count": null,
      "outputs": [
        {
          "output_type": "stream",
          "text": [
            "Model: \"model_1\"\n",
            "__________________________________________________________________________________________________\n",
            "Layer (type)                    Output Shape         Param #     Connected to                     \n",
            "==================================================================================================\n",
            "input_3 (InputLayer)            [(None, 1)]          0                                            \n",
            "__________________________________________________________________________________________________\n",
            "input_4 (InputLayer)            [(None, 1)]          0                                            \n",
            "__________________________________________________________________________________________________\n",
            "embedding_4 (Embedding)         (None, 1, 200)       188800      input_3[0][0]                    \n",
            "__________________________________________________________________________________________________\n",
            "embedding_5 (Embedding)         (None, 1, 200)       336600      input_4[0][0]                    \n",
            "__________________________________________________________________________________________________\n",
            "embedding_6 (Embedding)         (None, 1, 1)         944         input_3[0][0]                    \n",
            "__________________________________________________________________________________________________\n",
            "embedding_7 (Embedding)         (None, 1, 1)         1683        input_4[0][0]                    \n",
            "__________________________________________________________________________________________________\n",
            "flatten_1 (Flatten)             (None, 200)          0           embedding_4[0][0]                \n",
            "__________________________________________________________________________________________________\n",
            "flatten_2 (Flatten)             (None, 200)          0           embedding_5[0][0]                \n",
            "__________________________________________________________________________________________________\n",
            "flatten_3 (Flatten)             (None, 1)            0           embedding_6[0][0]                \n",
            "__________________________________________________________________________________________________\n",
            "flatten_4 (Flatten)             (None, 1)            0           embedding_7[0][0]                \n",
            "__________________________________________________________________________________________________\n",
            "concatenate (Concatenate)       (None, 402)          0           flatten_1[0][0]                  \n",
            "                                                                 flatten_2[0][0]                  \n",
            "                                                                 flatten_3[0][0]                  \n",
            "                                                                 flatten_4[0][0]                  \n",
            "__________________________________________________________________________________________________\n",
            "dense (Dense)                   (None, 2048)         825344      concatenate[0][0]                \n",
            "__________________________________________________________________________________________________\n",
            "activation (Activation)         (None, 2048)         0           dense[0][0]                      \n",
            "__________________________________________________________________________________________________\n",
            "dense_1 (Dense)                 (None, 256)          524544      activation[0][0]                 \n",
            "__________________________________________________________________________________________________\n",
            "activation_1 (Activation)       (None, 256)          0           dense_1[0][0]                    \n",
            "__________________________________________________________________________________________________\n",
            "dense_2 (Dense)                 (None, 1)            257         activation_1[0][0]               \n",
            "==================================================================================================\n",
            "Total params: 1,878,172\n",
            "Trainable params: 1,878,172\n",
            "Non-trainable params: 0\n",
            "__________________________________________________________________________________________________\n"
          ],
          "name": "stdout"
        }
      ]
    },
    {
      "cell_type": "code",
      "metadata": {
        "colab": {
          "base_uri": "https://localhost:8080/"
        },
        "id": "UxUBFlkwP-yf",
        "outputId": "1bf1de62-1eea-4882-8a14-d394bfdc4ac5"
      },
      "source": [
        "# Model fitting\n",
        "result = model.fit(\n",
        "  x=[ratings_train.user_id.values, ratings_train.movie_id.values],\n",
        "  y=ratings_train.rating.values - mu,\n",
        "  epochs=65,\n",
        "  batch_size=512,\n",
        "  validation_data=(\n",
        "    [ratings_test.user_id.values, ratings_test.movie_id.values],\n",
        "    ratings_test.rating.values - mu\n",
        "  )\n",
        ")"
      ],
      "execution_count": null,
      "outputs": [
        {
          "output_type": "stream",
          "text": [
            "Epoch 1/65\n",
            "147/147 [==============================] - 15s 97ms/step - loss: 5.4662 - RMSE: 1.1279 - val_loss: 5.2763 - val_RMSE: 1.1255\n",
            "Epoch 2/65\n",
            "147/147 [==============================] - 14s 95ms/step - loss: 5.2155 - RMSE: 1.1250 - val_loss: 5.0381 - val_RMSE: 1.1243\n",
            "Epoch 3/65\n",
            "147/147 [==============================] - 14s 96ms/step - loss: 4.9817 - RMSE: 1.1248 - val_loss: 4.8130 - val_RMSE: 1.1226\n",
            "Epoch 4/65\n",
            "147/147 [==============================] - 14s 96ms/step - loss: 4.7604 - RMSE: 1.1237 - val_loss: 4.6012 - val_RMSE: 1.1215\n",
            "Epoch 5/65\n",
            "147/147 [==============================] - 14s 95ms/step - loss: 4.5530 - RMSE: 1.1239 - val_loss: 4.4012 - val_RMSE: 1.1201\n",
            "Epoch 6/65\n",
            "147/147 [==============================] - 14s 95ms/step - loss: 4.3517 - RMSE: 1.1183 - val_loss: 4.2130 - val_RMSE: 1.1191\n",
            "Epoch 7/65\n",
            "147/147 [==============================] - 14s 96ms/step - loss: 4.1676 - RMSE: 1.1186 - val_loss: 4.0348 - val_RMSE: 1.1174\n",
            "Epoch 8/65\n",
            "147/147 [==============================] - 14s 95ms/step - loss: 3.9913 - RMSE: 1.1162 - val_loss: 3.8671 - val_RMSE: 1.1161\n",
            "Epoch 9/65\n",
            "147/147 [==============================] - 14s 97ms/step - loss: 3.8239 - RMSE: 1.1127 - val_loss: 3.7086 - val_RMSE: 1.1144\n",
            "Epoch 10/65\n",
            "147/147 [==============================] - 14s 95ms/step - loss: 3.6693 - RMSE: 1.1127 - val_loss: 3.5589 - val_RMSE: 1.1124\n",
            "Epoch 11/65\n",
            "147/147 [==============================] - 14s 96ms/step - loss: 3.5231 - RMSE: 1.1122 - val_loss: 3.4174 - val_RMSE: 1.1102\n",
            "Epoch 12/65\n",
            "147/147 [==============================] - 14s 95ms/step - loss: 3.3833 - RMSE: 1.1097 - val_loss: 3.2838 - val_RMSE: 1.1080\n",
            "Epoch 13/65\n",
            "147/147 [==============================] - 14s 95ms/step - loss: 3.2522 - RMSE: 1.1078 - val_loss: 3.1573 - val_RMSE: 1.1052\n",
            "Epoch 14/65\n",
            "147/147 [==============================] - 14s 94ms/step - loss: 3.1256 - RMSE: 1.1033 - val_loss: 3.0375 - val_RMSE: 1.1020\n",
            "Epoch 15/65\n",
            "147/147 [==============================] - 14s 94ms/step - loss: 3.0016 - RMSE: 1.0941 - val_loss: 2.9240 - val_RMSE: 1.0983\n",
            "Epoch 16/65\n",
            "147/147 [==============================] - 14s 95ms/step - loss: 2.8953 - RMSE: 1.0960 - val_loss: 2.8164 - val_RMSE: 1.0941\n",
            "Epoch 17/65\n",
            "147/147 [==============================] - 14s 95ms/step - loss: 2.7837 - RMSE: 1.0863 - val_loss: 2.7143 - val_RMSE: 1.0895\n",
            "Epoch 18/65\n",
            "147/147 [==============================] - 14s 95ms/step - loss: 2.6845 - RMSE: 1.0831 - val_loss: 2.6177 - val_RMSE: 1.0847\n",
            "Epoch 19/65\n",
            "147/147 [==============================] - 14s 96ms/step - loss: 2.5932 - RMSE: 1.0823 - val_loss: 2.5242 - val_RMSE: 1.0776\n",
            "Epoch 20/65\n",
            "147/147 [==============================] - 14s 95ms/step - loss: 2.5010 - RMSE: 1.0752 - val_loss: 2.4361 - val_RMSE: 1.0708\n",
            "Epoch 21/65\n",
            "147/147 [==============================] - 14s 95ms/step - loss: 2.4100 - RMSE: 1.0643 - val_loss: 2.3521 - val_RMSE: 1.0634\n",
            "Epoch 22/65\n",
            "147/147 [==============================] - 14s 96ms/step - loss: 2.3249 - RMSE: 1.0546 - val_loss: 2.2716 - val_RMSE: 1.0549\n",
            "Epoch 23/65\n",
            "147/147 [==============================] - 14s 97ms/step - loss: 2.2478 - RMSE: 1.0484 - val_loss: 2.1948 - val_RMSE: 1.0459\n",
            "Epoch 24/65\n",
            "147/147 [==============================] - 14s 97ms/step - loss: 2.1701 - RMSE: 1.0376 - val_loss: 2.1220 - val_RMSE: 1.0370\n",
            "Epoch 25/65\n",
            "147/147 [==============================] - 14s 97ms/step - loss: 2.1021 - RMSE: 1.0325 - val_loss: 2.0529 - val_RMSE: 1.0281\n",
            "Epoch 26/65\n",
            "147/147 [==============================] - 14s 98ms/step - loss: 2.0301 - RMSE: 1.0197 - val_loss: 1.9877 - val_RMSE: 1.0195\n",
            "Epoch 27/65\n",
            "147/147 [==============================] - 14s 97ms/step - loss: 1.9601 - RMSE: 1.0057 - val_loss: 1.9265 - val_RMSE: 1.0118\n",
            "Epoch 28/65\n",
            "147/147 [==============================] - 14s 97ms/step - loss: 1.8992 - RMSE: 0.9974 - val_loss: 1.8682 - val_RMSE: 1.0039\n",
            "Epoch 29/65\n",
            "147/147 [==============================] - 14s 96ms/step - loss: 1.8454 - RMSE: 0.9934 - val_loss: 1.8139 - val_RMSE: 0.9972\n",
            "Epoch 30/65\n",
            "147/147 [==============================] - 14s 96ms/step - loss: 1.7894 - RMSE: 0.9843 - val_loss: 1.7631 - val_RMSE: 0.9914\n",
            "Epoch 31/65\n",
            "147/147 [==============================] - 14s 95ms/step - loss: 1.7376 - RMSE: 0.9768 - val_loss: 1.7150 - val_RMSE: 0.9858\n",
            "Epoch 32/65\n",
            "147/147 [==============================] - 14s 95ms/step - loss: 1.6838 - RMSE: 0.9649 - val_loss: 1.6708 - val_RMSE: 0.9817\n",
            "Epoch 33/65\n",
            "147/147 [==============================] - 14s 95ms/step - loss: 1.6406 - RMSE: 0.9612 - val_loss: 1.6281 - val_RMSE: 0.9770\n",
            "Epoch 34/65\n",
            "147/147 [==============================] - 14s 95ms/step - loss: 1.5986 - RMSE: 0.9565 - val_loss: 1.5894 - val_RMSE: 0.9740\n",
            "Epoch 35/65\n",
            "147/147 [==============================] - 14s 95ms/step - loss: 1.5646 - RMSE: 0.9579 - val_loss: 1.5516 - val_RMSE: 0.9700\n",
            "Epoch 36/65\n",
            "147/147 [==============================] - 14s 95ms/step - loss: 1.5207 - RMSE: 0.9473 - val_loss: 1.5171 - val_RMSE: 0.9674\n",
            "Epoch 37/65\n",
            "147/147 [==============================] - 14s 95ms/step - loss: 1.4899 - RMSE: 0.9479 - val_loss: 1.4842 - val_RMSE: 0.9647\n",
            "Epoch 38/65\n",
            "147/147 [==============================] - 14s 96ms/step - loss: 1.4568 - RMSE: 0.9446 - val_loss: 1.4535 - val_RMSE: 0.9625\n",
            "Epoch 39/65\n",
            "147/147 [==============================] - 14s 97ms/step - loss: 1.4262 - RMSE: 0.9421 - val_loss: 1.4245 - val_RMSE: 0.9604\n",
            "Epoch 40/65\n",
            "147/147 [==============================] - 14s 95ms/step - loss: 1.3982 - RMSE: 0.9406 - val_loss: 1.3997 - val_RMSE: 0.9609\n",
            "Epoch 41/65\n",
            "147/147 [==============================] - 14s 97ms/step - loss: 1.3706 - RMSE: 0.9379 - val_loss: 1.3717 - val_RMSE: 0.9569\n",
            "Epoch 42/65\n",
            "147/147 [==============================] - 14s 97ms/step - loss: 1.3428 - RMSE: 0.9337 - val_loss: 1.3474 - val_RMSE: 0.9552\n",
            "Epoch 43/65\n",
            "147/147 [==============================] - 14s 97ms/step - loss: 1.3170 - RMSE: 0.9302 - val_loss: 1.3248 - val_RMSE: 0.9539\n",
            "Epoch 44/65\n",
            "147/147 [==============================] - 14s 96ms/step - loss: 1.2958 - RMSE: 0.9300 - val_loss: 1.3037 - val_RMSE: 0.9529\n",
            "Epoch 45/65\n",
            "147/147 [==============================] - 14s 95ms/step - loss: 1.2795 - RMSE: 0.9336 - val_loss: 1.2845 - val_RMSE: 0.9528\n",
            "Epoch 46/65\n",
            "147/147 [==============================] - 14s 95ms/step - loss: 1.2535 - RMSE: 0.9263 - val_loss: 1.2645 - val_RMSE: 0.9506\n",
            "Epoch 47/65\n",
            "147/147 [==============================] - 14s 94ms/step - loss: 1.2364 - RMSE: 0.9269 - val_loss: 1.2468 - val_RMSE: 0.9499\n",
            "Epoch 48/65\n",
            "147/147 [==============================] - 14s 95ms/step - loss: 1.2143 - RMSE: 0.9215 - val_loss: 1.2308 - val_RMSE: 0.9499\n",
            "Epoch 49/65\n",
            "147/147 [==============================] - 14s 96ms/step - loss: 1.2032 - RMSE: 0.9261 - val_loss: 1.2148 - val_RMSE: 0.9489\n",
            "Epoch 50/65\n",
            "147/147 [==============================] - 14s 96ms/step - loss: 1.1842 - RMSE: 0.9220 - val_loss: 1.2004 - val_RMSE: 0.9488\n",
            "Epoch 51/65\n",
            "147/147 [==============================] - 14s 95ms/step - loss: 1.1698 - RMSE: 0.9216 - val_loss: 1.1852 - val_RMSE: 0.9471\n",
            "Epoch 52/65\n",
            "147/147 [==============================] - 14s 95ms/step - loss: 1.1570 - RMSE: 0.9221 - val_loss: 1.1722 - val_RMSE: 0.9467\n",
            "Epoch 53/65\n",
            "147/147 [==============================] - 14s 95ms/step - loss: 1.1491 - RMSE: 0.9267 - val_loss: 1.1610 - val_RMSE: 0.9475\n",
            "Epoch 54/65\n",
            "147/147 [==============================] - 14s 95ms/step - loss: 1.1339 - RMSE: 0.9233 - val_loss: 1.1563 - val_RMSE: 0.9541\n",
            "Epoch 55/65\n",
            "147/147 [==============================] - 14s 94ms/step - loss: 1.1186 - RMSE: 0.9191 - val_loss: 1.1385 - val_RMSE: 0.9470\n",
            "Epoch 56/65\n",
            "147/147 [==============================] - 14s 95ms/step - loss: 1.1089 - RMSE: 0.9200 - val_loss: 1.1268 - val_RMSE: 0.9454\n",
            "Epoch 57/65\n",
            "147/147 [==============================] - 14s 94ms/step - loss: 1.0981 - RMSE: 0.9192 - val_loss: 1.1180 - val_RMSE: 0.9461\n",
            "Epoch 58/65\n",
            "147/147 [==============================] - 14s 94ms/step - loss: 1.0895 - RMSE: 0.9199 - val_loss: 1.1079 - val_RMSE: 0.9450\n",
            "Epoch 59/65\n",
            "147/147 [==============================] - 14s 95ms/step - loss: 1.0785 - RMSE: 0.9177 - val_loss: 1.0995 - val_RMSE: 0.9451\n",
            "Epoch 60/65\n",
            "147/147 [==============================] - 14s 95ms/step - loss: 1.0703 - RMSE: 0.9179 - val_loss: 1.0911 - val_RMSE: 0.9447\n",
            "Epoch 61/65\n",
            "147/147 [==============================] - 14s 94ms/step - loss: 1.0632 - RMSE: 0.9187 - val_loss: 1.0834 - val_RMSE: 0.9446\n",
            "Epoch 62/65\n",
            "147/147 [==============================] - 14s 95ms/step - loss: 1.0545 - RMSE: 0.9175 - val_loss: 1.0760 - val_RMSE: 0.9443\n",
            "Epoch 63/65\n",
            "147/147 [==============================] - 14s 95ms/step - loss: 1.0491 - RMSE: 0.9191 - val_loss: 1.0704 - val_RMSE: 0.9455\n",
            "Epoch 64/65\n",
            "147/147 [==============================] - 14s 95ms/step - loss: 1.0392 - RMSE: 0.9159 - val_loss: 1.0632 - val_RMSE: 0.9446\n",
            "Epoch 65/65\n",
            "147/147 [==============================] - 14s 95ms/step - loss: 1.0302 - RMSE: 0.9131 - val_loss: 1.0561 - val_RMSE: 0.9436\n"
          ],
          "name": "stdout"
        }
      ]
    },
    {
      "cell_type": "markdown",
      "metadata": {
        "id": "wZRULNclSLEN"
      },
      "source": [
        "#### 딥러닝 모델에 변수 추가하기"
      ]
    },
    {
      "cell_type": "code",
      "metadata": {
        "id": "OBfDb5hqSQoh"
      },
      "source": [
        "u_cols = ['user_id', 'age', 'sex', 'occupation', 'zip_code']\n",
        "users = pd.read_csv('/u.user', sep='|', names=u_cols, encoding='latin-1')\n",
        "users = users[['user_id', 'occupation']]"
      ],
      "execution_count": null,
      "outputs": []
    },
    {
      "cell_type": "code",
      "metadata": {
        "id": "deb2Rg6-SQs8"
      },
      "source": [
        "# Convert occupation(string to integer)\n",
        "occupation = {}\n",
        "def convert_occ(x):\n",
        "    if x in occupation:\n",
        "        return occupation[x]\n",
        "    else:\n",
        "        occupation[x] = len(occupation)\n",
        "        return occupation[x]\n",
        "users['occupation'] = users['occupation'].apply(convert_occ) \n",
        "# 사용자 데이터의 ocuupation 열을 int로 변환한다.\n",
        "\n",
        "L = len(occupation)\n",
        "train_occ = pd.merge(ratings_train, users, on='user_id')['occupation']\n",
        "test_occ = pd.merge(ratings_test, users, on='user_id')['occupation']"
      ],
      "execution_count": null,
      "outputs": []
    },
    {
      "cell_type": "code",
      "metadata": {
        "id": "KOk0UJsYRNha"
      },
      "source": [
        "occ = Input(shape=(1, ))\n",
        "occ_embedding = Embedding(L, 3, embeddings_regularizer=l2())(occ) # 3개의 잠재요인으로 embedding\n",
        "occ_layer = Flatten()(occ_embedding)\n",
        "R = Concatenate()([P_embedding, Q_embedding, user_bias, item_bias, occ_layer])\n",
        "\n",
        "model = Model(inputs=[user, item, occ], outputs=R)\n",
        "\n",
        "# RMSE가 눈에 띄게 향상되지는 않는다.\n",
        "# 사용자의 평가 패턴과 상관관게가 있는 변수를 추가해야 RMSE가 향상된다."
      ],
      "execution_count": null,
      "outputs": []
    },
    {
      "cell_type": "markdown",
      "metadata": {
        "id": "M7HIuUIWFLV9"
      },
      "source": [
        "### 제 7장 하이브리드 추천 시스템\n",
        "\n",
        ": 복수의 추천 알고리즘을 결합해서 추천하는 것"
      ]
    },
    {
      "cell_type": "code",
      "metadata": {
        "id": "0B5HX4l8FvCZ"
      },
      "source": [
        "import random"
      ],
      "execution_count": null,
      "outputs": []
    },
    {
      "cell_type": "code",
      "metadata": {
        "id": "KrrA_oLjFx-0"
      },
      "source": [
        "def RMSE2(y_true, y_pred):\n",
        "    return np.sqrt(np.mean((np.array(y_true) - np.array(y_pred))**2))"
      ],
      "execution_count": null,
      "outputs": []
    },
    {
      "cell_type": "code",
      "metadata": {
        "colab": {
          "base_uri": "https://localhost:8080/"
        },
        "id": "pstqC16FFL1q",
        "outputId": "224be88a-2b1c-406a-843d-98c82b5f432d"
      },
      "source": [
        "# Dummy recommender 0\n",
        "def recommender0(recomm_list):\n",
        "    recommendations = []\n",
        "    for pair in recomm_list:\n",
        "        recommendations.append(random.random() * 4 + 1)\n",
        "    return np.array(recommendations)\n",
        "\n",
        "# Dummy recommender 1\n",
        "def recommender1(recomm_list):\n",
        "    recommendations = []\n",
        "    for pair in recomm_list:\n",
        "        recommendations.append(random.random() * 4 + 1)\n",
        "    return np.array(recommendations)\n",
        "\n",
        "# Hybrid 결과 얻기\n",
        "weight = [0.8, 0.2] # 두 추천엔진의 결합 비중\n",
        "recomm_list = np.array(ratings_test)\n",
        "predictions0 = recommender0(recomm_list)\n",
        "predictions1 = recommender1(recomm_list)\n",
        "predictions = predictions0 * weight[0] + predictions1 * weight[1] #가중 평균\n",
        "RMSE2(recomm_list[:, 2], predictions)"
      ],
      "execution_count": null,
      "outputs": [
        {
          "output_type": "execute_result",
          "data": {
            "text/plain": [
              "1.5612758913754048"
            ]
          },
          "metadata": {
            "tags": []
          },
          "execution_count": 84
        }
      ]
    },
    {
      "cell_type": "code",
      "metadata": {
        "id": "saJbycVoGhiy"
      },
      "source": [
        "##### CF 추천 알고리즘 >>>>>>>>>>>>>>>\n",
        "\n",
        "rating_matrix = ratings_train.pivot(index='user_id', columns='movie_id', values='rating')\n",
        "\n",
        "# train set 사용자들의 Cosine similarities 계산\n",
        "from sklearn.metrics.pairwise import cosine_similarity\n",
        "matrix_dummy = rating_matrix.copy().fillna(0)\n",
        "user_similarity = cosine_similarity(matrix_dummy, matrix_dummy)\n",
        "user_similarity = pd.DataFrame(user_similarity, index=rating_matrix.index, columns=rating_matrix.index)\n",
        "\n",
        "# train 데이터의 user의 rating 평균과 영화의 평점편차 계산 \n",
        "rating_mean = rating_matrix.mean(axis=1)\n",
        "rating_bias = (rating_matrix.T - rating_mean).T\n",
        "\n",
        "def CF_knn_bias(user_id, movie_id, neighbor_size=0):\n",
        "    if movie_id in rating_bias:\n",
        "        sim_scores = user_similarity[user_id]\n",
        "        movie_ratings = rating_bias[movie_id]\n",
        "        none_rating_idx = movie_ratings[movie_ratings.isnull()].index\n",
        "        movie_ratings = movie_ratings.drop(none_rating_idx)\n",
        "        sim_scores = sim_scores.drop(none_rating_idx)\n",
        "        if neighbor_size == 0:\n",
        "            prediction = np.dot(sim_scores, movie_ratings) / sim_scores.sum()\n",
        "            prediction = prediction + rating_mean[user_id]\n",
        "        else:\n",
        "            if len(sim_scores) > 1:\n",
        "                neighbor_size = min(neighbor_size, len(sim_scores))\n",
        "                sim_scores = np.array(sim_scores)\n",
        "                movie_ratings = np.array(movie_ratings)\n",
        "                user_idx = np.argsort(sim_scores)\n",
        "                sim_scores = sim_scores[user_idx][-neighbor_size:]\n",
        "                movie_ratings = movie_ratings[user_idx][-neighbor_size:]\n",
        "                prediction = np.dot(sim_scores, movie_ratings) / sim_scores.sum()\n",
        "                prediction = prediction + rating_mean[user_id]\n",
        "            else:\n",
        "                prediction = rating_mean[user_id]\n",
        "    else:\n",
        "        prediction = rating_mean[user_id]\n",
        "    return prediction"
      ],
      "execution_count": null,
      "outputs": []
    },
    {
      "cell_type": "code",
      "metadata": {
        "colab": {
          "base_uri": "https://localhost:8080/",
          "height": 386
        },
        "id": "2dcjam2UFpVS",
        "outputId": "3440dd77-75c1-48e7-8a3d-3b6999079c1b"
      },
      "source": [
        "##### Hybrid 추천 알고리즘\n",
        "\n",
        "def recommender0(recomm_list, mf): # MF\n",
        "    recommendations = np.array([mf.get_one_prediction(user, movie) for (user, movie) in recomm_list])\n",
        "    return recommendations\n",
        "\n",
        "def recommender1(recomm_list, neighbor_size=0): # CF\n",
        "    recommendations = np.array([CF_knn_bias(user, movie, neighbor_size) for (user, movie) in recomm_list])\n",
        "    return recommendations\n",
        "\n",
        "recomm_list = np.array(ratings_test.iloc[:, [0, 1]])\n",
        "predictions0 = recommender0(recomm_list, mf)\n",
        "RMSE2(ratings_test.iloc[:, 2], predictions0)\n",
        "predictions1 = recommender1(recomm_list, 37)\n",
        "RMSE2(ratings_test.iloc[:, 2], predictions1)\n",
        "\n",
        "weight = [0.8, 0.2]\n",
        "predictions = predictions0 * weight[0] + predictions1 * weight[1] # 합친게 미세하게 더 좋게 나온다.\n",
        "RMSE2(ratings_test.iloc[:, 2], predictions)\n"
      ],
      "execution_count": null,
      "outputs": [
        {
          "output_type": "error",
          "ename": "TypeError",
          "evalue": "ignored",
          "traceback": [
            "\u001b[0;31m---------------------------------------------------------------------------\u001b[0m",
            "\u001b[0;31mTypeError\u001b[0m                                 Traceback (most recent call last)",
            "\u001b[0;32m<ipython-input-86-a47b1d7099af>\u001b[0m in \u001b[0;36m<module>\u001b[0;34m()\u001b[0m\n\u001b[1;32m     12\u001b[0m \u001b[0mpredictions0\u001b[0m \u001b[0;34m=\u001b[0m \u001b[0mrecommender0\u001b[0m\u001b[0;34m(\u001b[0m\u001b[0mrecomm_list\u001b[0m\u001b[0;34m,\u001b[0m \u001b[0mmf\u001b[0m\u001b[0;34m)\u001b[0m\u001b[0;34m\u001b[0m\u001b[0;34m\u001b[0m\u001b[0m\n\u001b[1;32m     13\u001b[0m \u001b[0mRMSE2\u001b[0m\u001b[0;34m(\u001b[0m\u001b[0mratings_test\u001b[0m\u001b[0;34m.\u001b[0m\u001b[0miloc\u001b[0m\u001b[0;34m[\u001b[0m\u001b[0;34m:\u001b[0m\u001b[0;34m,\u001b[0m \u001b[0;36m2\u001b[0m\u001b[0;34m]\u001b[0m\u001b[0;34m,\u001b[0m \u001b[0mpredictions0\u001b[0m\u001b[0;34m)\u001b[0m\u001b[0;34m\u001b[0m\u001b[0;34m\u001b[0m\u001b[0m\n\u001b[0;32m---> 14\u001b[0;31m \u001b[0mpredictions1\u001b[0m \u001b[0;34m=\u001b[0m \u001b[0mrecommender1\u001b[0m\u001b[0;34m(\u001b[0m\u001b[0mrecomm_list\u001b[0m\u001b[0;34m,\u001b[0m \u001b[0;36m37\u001b[0m\u001b[0;34m)\u001b[0m\u001b[0;34m\u001b[0m\u001b[0;34m\u001b[0m\u001b[0m\n\u001b[0m\u001b[1;32m     15\u001b[0m \u001b[0mRMSE2\u001b[0m\u001b[0;34m(\u001b[0m\u001b[0mratings_test\u001b[0m\u001b[0;34m.\u001b[0m\u001b[0miloc\u001b[0m\u001b[0;34m[\u001b[0m\u001b[0;34m:\u001b[0m\u001b[0;34m,\u001b[0m \u001b[0;36m2\u001b[0m\u001b[0;34m]\u001b[0m\u001b[0;34m,\u001b[0m \u001b[0mpredictions1\u001b[0m\u001b[0;34m)\u001b[0m\u001b[0;34m\u001b[0m\u001b[0;34m\u001b[0m\u001b[0m\n\u001b[1;32m     16\u001b[0m \u001b[0;34m\u001b[0m\u001b[0m\n",
            "\u001b[0;32m<ipython-input-86-a47b1d7099af>\u001b[0m in \u001b[0;36mrecommender1\u001b[0;34m(recomm_list, neighbor_size)\u001b[0m\n\u001b[1;32m      6\u001b[0m \u001b[0;34m\u001b[0m\u001b[0m\n\u001b[1;32m      7\u001b[0m \u001b[0;32mdef\u001b[0m \u001b[0mrecommender1\u001b[0m\u001b[0;34m(\u001b[0m\u001b[0mrecomm_list\u001b[0m\u001b[0;34m,\u001b[0m \u001b[0mneighbor_size\u001b[0m\u001b[0;34m=\u001b[0m\u001b[0;36m0\u001b[0m\u001b[0;34m)\u001b[0m\u001b[0;34m:\u001b[0m \u001b[0;31m# CF\u001b[0m\u001b[0;34m\u001b[0m\u001b[0;34m\u001b[0m\u001b[0m\n\u001b[0;32m----> 8\u001b[0;31m     \u001b[0mrecommendations\u001b[0m \u001b[0;34m=\u001b[0m \u001b[0mnp\u001b[0m\u001b[0;34m.\u001b[0m\u001b[0marray\u001b[0m\u001b[0;34m(\u001b[0m\u001b[0;34m[\u001b[0m\u001b[0mCF_knn_bias\u001b[0m\u001b[0;34m(\u001b[0m\u001b[0muser\u001b[0m\u001b[0;34m,\u001b[0m \u001b[0mmovie\u001b[0m\u001b[0;34m,\u001b[0m \u001b[0mneighbor_size\u001b[0m\u001b[0;34m)\u001b[0m \u001b[0;32mfor\u001b[0m \u001b[0;34m(\u001b[0m\u001b[0muser\u001b[0m\u001b[0;34m,\u001b[0m \u001b[0mmovie\u001b[0m\u001b[0;34m)\u001b[0m \u001b[0;32min\u001b[0m \u001b[0mrecomm_list\u001b[0m\u001b[0;34m]\u001b[0m\u001b[0;34m)\u001b[0m\u001b[0;34m\u001b[0m\u001b[0;34m\u001b[0m\u001b[0m\n\u001b[0m\u001b[1;32m      9\u001b[0m     \u001b[0;32mreturn\u001b[0m \u001b[0mrecommendations\u001b[0m\u001b[0;34m\u001b[0m\u001b[0;34m\u001b[0m\u001b[0m\n\u001b[1;32m     10\u001b[0m \u001b[0;34m\u001b[0m\u001b[0m\n",
            "\u001b[0;32m<ipython-input-86-a47b1d7099af>\u001b[0m in \u001b[0;36m<listcomp>\u001b[0;34m(.0)\u001b[0m\n\u001b[1;32m      6\u001b[0m \u001b[0;34m\u001b[0m\u001b[0m\n\u001b[1;32m      7\u001b[0m \u001b[0;32mdef\u001b[0m \u001b[0mrecommender1\u001b[0m\u001b[0;34m(\u001b[0m\u001b[0mrecomm_list\u001b[0m\u001b[0;34m,\u001b[0m \u001b[0mneighbor_size\u001b[0m\u001b[0;34m=\u001b[0m\u001b[0;36m0\u001b[0m\u001b[0;34m)\u001b[0m\u001b[0;34m:\u001b[0m \u001b[0;31m# CF\u001b[0m\u001b[0;34m\u001b[0m\u001b[0;34m\u001b[0m\u001b[0m\n\u001b[0;32m----> 8\u001b[0;31m     \u001b[0mrecommendations\u001b[0m \u001b[0;34m=\u001b[0m \u001b[0mnp\u001b[0m\u001b[0;34m.\u001b[0m\u001b[0marray\u001b[0m\u001b[0;34m(\u001b[0m\u001b[0;34m[\u001b[0m\u001b[0mCF_knn_bias\u001b[0m\u001b[0;34m(\u001b[0m\u001b[0muser\u001b[0m\u001b[0;34m,\u001b[0m \u001b[0mmovie\u001b[0m\u001b[0;34m,\u001b[0m \u001b[0mneighbor_size\u001b[0m\u001b[0;34m)\u001b[0m \u001b[0;32mfor\u001b[0m \u001b[0;34m(\u001b[0m\u001b[0muser\u001b[0m\u001b[0;34m,\u001b[0m \u001b[0mmovie\u001b[0m\u001b[0;34m)\u001b[0m \u001b[0;32min\u001b[0m \u001b[0mrecomm_list\u001b[0m\u001b[0;34m]\u001b[0m\u001b[0;34m)\u001b[0m\u001b[0;34m\u001b[0m\u001b[0;34m\u001b[0m\u001b[0m\n\u001b[0m\u001b[1;32m      9\u001b[0m     \u001b[0;32mreturn\u001b[0m \u001b[0mrecommendations\u001b[0m\u001b[0;34m\u001b[0m\u001b[0;34m\u001b[0m\u001b[0m\n\u001b[1;32m     10\u001b[0m \u001b[0;34m\u001b[0m\u001b[0m\n",
            "\u001b[0;32m<ipython-input-85-2afc79db3c86>\u001b[0m in \u001b[0;36mCF_knn_bias\u001b[0;34m(user_id, movie_id, neighbor_size)\u001b[0m\n\u001b[1;32m     25\u001b[0m         \u001b[0;32melse\u001b[0m\u001b[0;34m:\u001b[0m\u001b[0;34m\u001b[0m\u001b[0;34m\u001b[0m\u001b[0m\n\u001b[1;32m     26\u001b[0m             \u001b[0;32mif\u001b[0m \u001b[0mlen\u001b[0m\u001b[0;34m(\u001b[0m\u001b[0msim_scores\u001b[0m\u001b[0;34m)\u001b[0m \u001b[0;34m>\u001b[0m \u001b[0;36m1\u001b[0m\u001b[0;34m:\u001b[0m\u001b[0;34m\u001b[0m\u001b[0;34m\u001b[0m\u001b[0m\n\u001b[0;32m---> 27\u001b[0;31m                 \u001b[0mneighbor_size\u001b[0m \u001b[0;34m=\u001b[0m \u001b[0mmin\u001b[0m\u001b[0;34m(\u001b[0m\u001b[0mneighbor_size\u001b[0m\u001b[0;34m,\u001b[0m \u001b[0mlen\u001b[0m\u001b[0;34m(\u001b[0m\u001b[0msim_scores\u001b[0m\u001b[0;34m)\u001b[0m\u001b[0;34m)\u001b[0m\u001b[0;34m\u001b[0m\u001b[0;34m\u001b[0m\u001b[0m\n\u001b[0m\u001b[1;32m     28\u001b[0m                 \u001b[0msim_scores\u001b[0m \u001b[0;34m=\u001b[0m \u001b[0mnp\u001b[0m\u001b[0;34m.\u001b[0m\u001b[0marray\u001b[0m\u001b[0;34m(\u001b[0m\u001b[0msim_scores\u001b[0m\u001b[0;34m)\u001b[0m\u001b[0;34m\u001b[0m\u001b[0;34m\u001b[0m\u001b[0m\n\u001b[1;32m     29\u001b[0m                 \u001b[0mmovie_ratings\u001b[0m \u001b[0;34m=\u001b[0m \u001b[0mnp\u001b[0m\u001b[0;34m.\u001b[0m\u001b[0marray\u001b[0m\u001b[0;34m(\u001b[0m\u001b[0mmovie_ratings\u001b[0m\u001b[0;34m)\u001b[0m\u001b[0;34m\u001b[0m\u001b[0;34m\u001b[0m\u001b[0m\n",
            "\u001b[0;31mTypeError\u001b[0m: 'numpy.float64' object is not callable"
          ]
        }
      ]
    },
    {
      "cell_type": "code",
      "metadata": {
        "id": "rLFnbQocFL4h"
      },
      "source": [
        "# 최적의 가중치 구하기. (0.88:0.12)\n",
        "for i in np.arange(0, 1, 0.01):\n",
        "    weight = [i, 1.0 - i]\n",
        "    predictions = predictions0 * weight[0] + predictions1 * weight[1]\n",
        "    print(\"Weights - %.2f : %.2f ; RMSE = %.7f\" % (weight[0], \n",
        "           weight[1], RMSE2(ratings_test.iloc[:, 2], predictions)))"
      ],
      "execution_count": null,
      "outputs": []
    }
  ]
}